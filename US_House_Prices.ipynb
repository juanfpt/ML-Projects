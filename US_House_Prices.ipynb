{
  "nbformat": 4,
  "nbformat_minor": 0,
  "metadata": {
    "colab": {
      "name": "US_House_Prices.ipynb",
      "provenance": [],
      "collapsed_sections": [
        "IE4p6Qfx4Xtl",
        "tSfmIUsc5LVS",
        "_kJTljhd7wS5",
        "RbMhDiNZ9MSo",
        "tgJ8QKGnBLNg",
        "91VBrY6yCjEu",
        "9_FYEtkVDkwR",
        "IrqtEt4lSas1"
      ]
    },
    "kernelspec": {
      "name": "python3",
      "display_name": "Python 3"
    }
  },
  "cells": [
    {
      "cell_type": "markdown",
      "metadata": {
        "id": "bxwLJjyi1nRs"
      },
      "source": [
        "# US House Prices\n",
        "**Por: Juan Felipe Pinto y Daniela Ortega Amaya**\n",
        "\n",
        "\n",
        "Análisis de precios de los hogares de EE.UU. con el fin de poder establecer oportunidades de inversión. \n",
        "\n",
        "\n",
        "*   Tipo de Algoritmo: Clustering\n",
        "*   Método de ML: Shift Mean y K-Mean\n",
        "*   Fuente de Datos: Kaggle\n",
        "\n",
        "Las variables que se van a analizar son las siguientes:\n",
        "\n",
        "\n",
        "*   State: contiene los 51 estados de EE.UU.\n",
        "*   Price: refiere al precio de las casas de EE.UU en dólares estadounidenses.\n",
        "*   Metro: refiere al área de estadística metropolitana. Esta variable agrupa las ciudades en áreas geográficas específicas para censos de población y compilación de datos estadísticos.\n",
        "*   Rooms: contiene el número de cuartos de cada una de las casas.\n",
        "\n",
        "\n",
        "\n",
        "\n"
      ]
    },
    {
      "cell_type": "markdown",
      "metadata": {
        "id": "IE4p6Qfx4Xtl"
      },
      "source": [
        "# Importación de Datos\n",
        "\n",
        "Los datos importados vienen de 5 distintas bases de datos, cada una con la característica del número de habitaciones de la casa.\n",
        "\n"
      ]
    },
    {
      "cell_type": "code",
      "metadata": {
        "id": "MijZwuEv1aUw"
      },
      "source": [
        "import pandas as pd\n",
        "zi_one = pd.read_csv('/content/City_Zhvi_1bedroom.csv')"
      ],
      "execution_count": null,
      "outputs": []
    },
    {
      "cell_type": "code",
      "metadata": {
        "id": "wf40V0f25AJW",
        "colab": {
          "base_uri": "https://localhost:8080/",
          "height": 508
        },
        "outputId": "63d59bf3-67d4-4551-8eeb-c766bb433c73"
      },
      "source": [
        "zi_one.head()"
      ],
      "execution_count": null,
      "outputs": [
        {
          "output_type": "execute_result",
          "data": {
            "text/html": [
              "<div>\n",
              "<style scoped>\n",
              "    .dataframe tbody tr th:only-of-type {\n",
              "        vertical-align: middle;\n",
              "    }\n",
              "\n",
              "    .dataframe tbody tr th {\n",
              "        vertical-align: top;\n",
              "    }\n",
              "\n",
              "    .dataframe thead th {\n",
              "        text-align: right;\n",
              "    }\n",
              "</style>\n",
              "<table border=\"1\" class=\"dataframe\">\n",
              "  <thead>\n",
              "    <tr style=\"text-align: right;\">\n",
              "      <th></th>\n",
              "      <th>Unnamed: 0</th>\n",
              "      <th>RegionID</th>\n",
              "      <th>SizeRank</th>\n",
              "      <th>RegionName</th>\n",
              "      <th>RegionType</th>\n",
              "      <th>StateName</th>\n",
              "      <th>State</th>\n",
              "      <th>Metro</th>\n",
              "      <th>CountyName</th>\n",
              "      <th>1996-01-31</th>\n",
              "      <th>1996-02-29</th>\n",
              "      <th>1996-03-31</th>\n",
              "      <th>1996-04-30</th>\n",
              "      <th>1996-05-31</th>\n",
              "      <th>1996-06-30</th>\n",
              "      <th>1996-07-31</th>\n",
              "      <th>1996-08-31</th>\n",
              "      <th>1996-09-30</th>\n",
              "      <th>1996-10-31</th>\n",
              "      <th>1996-11-30</th>\n",
              "      <th>1996-12-31</th>\n",
              "      <th>1997-01-31</th>\n",
              "      <th>1997-02-28</th>\n",
              "      <th>1997-03-31</th>\n",
              "      <th>1997-04-30</th>\n",
              "      <th>1997-05-31</th>\n",
              "      <th>1997-06-30</th>\n",
              "      <th>1997-07-31</th>\n",
              "      <th>1997-08-31</th>\n",
              "      <th>1997-09-30</th>\n",
              "      <th>1997-10-31</th>\n",
              "      <th>1997-11-30</th>\n",
              "      <th>1997-12-31</th>\n",
              "      <th>1998-01-31</th>\n",
              "      <th>1998-02-28</th>\n",
              "      <th>1998-03-31</th>\n",
              "      <th>1998-04-30</th>\n",
              "      <th>1998-05-31</th>\n",
              "      <th>1998-06-30</th>\n",
              "      <th>1998-07-31</th>\n",
              "      <th>...</th>\n",
              "      <th>2016-12-31</th>\n",
              "      <th>2017-01-31</th>\n",
              "      <th>2017-02-28</th>\n",
              "      <th>2017-03-31</th>\n",
              "      <th>2017-04-30</th>\n",
              "      <th>2017-05-31</th>\n",
              "      <th>2017-06-30</th>\n",
              "      <th>2017-07-31</th>\n",
              "      <th>2017-08-31</th>\n",
              "      <th>2017-09-30</th>\n",
              "      <th>2017-10-31</th>\n",
              "      <th>2017-11-30</th>\n",
              "      <th>2017-12-31</th>\n",
              "      <th>2018-01-31</th>\n",
              "      <th>2018-02-28</th>\n",
              "      <th>2018-03-31</th>\n",
              "      <th>2018-04-30</th>\n",
              "      <th>2018-05-31</th>\n",
              "      <th>2018-06-30</th>\n",
              "      <th>2018-07-31</th>\n",
              "      <th>2018-08-31</th>\n",
              "      <th>2018-09-30</th>\n",
              "      <th>2018-10-31</th>\n",
              "      <th>2018-11-30</th>\n",
              "      <th>2018-12-31</th>\n",
              "      <th>2019-01-31</th>\n",
              "      <th>2019-02-28</th>\n",
              "      <th>2019-03-31</th>\n",
              "      <th>2019-04-30</th>\n",
              "      <th>2019-05-31</th>\n",
              "      <th>2019-06-30</th>\n",
              "      <th>2019-07-31</th>\n",
              "      <th>2019-08-31</th>\n",
              "      <th>2019-09-30</th>\n",
              "      <th>2019-10-31</th>\n",
              "      <th>2019-11-30</th>\n",
              "      <th>2019-12-31</th>\n",
              "      <th>2020-01-31</th>\n",
              "      <th>2020-02-29</th>\n",
              "      <th>2020-03-31</th>\n",
              "    </tr>\n",
              "  </thead>\n",
              "  <tbody>\n",
              "    <tr>\n",
              "      <th>0</th>\n",
              "      <td>0</td>\n",
              "      <td>6181</td>\n",
              "      <td>0</td>\n",
              "      <td>New York</td>\n",
              "      <td>City</td>\n",
              "      <td>NY</td>\n",
              "      <td>NY</td>\n",
              "      <td>New York-Newark-Jersey City</td>\n",
              "      <td>Queens County</td>\n",
              "      <td>139028.0</td>\n",
              "      <td>138821.0</td>\n",
              "      <td>138699.0</td>\n",
              "      <td>138671.0</td>\n",
              "      <td>138885.0</td>\n",
              "      <td>139046.0</td>\n",
              "      <td>139017.0</td>\n",
              "      <td>138686.0</td>\n",
              "      <td>138421.0</td>\n",
              "      <td>138321.0</td>\n",
              "      <td>138560.0</td>\n",
              "      <td>139051.0</td>\n",
              "      <td>139558.0</td>\n",
              "      <td>140306.0</td>\n",
              "      <td>141164.0</td>\n",
              "      <td>141936.0</td>\n",
              "      <td>142442.0</td>\n",
              "      <td>143041.0</td>\n",
              "      <td>143839.0</td>\n",
              "      <td>145118.0</td>\n",
              "      <td>146477.0</td>\n",
              "      <td>147889.0</td>\n",
              "      <td>149140.0</td>\n",
              "      <td>150132.0</td>\n",
              "      <td>151365.0</td>\n",
              "      <td>152308.0</td>\n",
              "      <td>153179.0</td>\n",
              "      <td>153673.0</td>\n",
              "      <td>154366.0</td>\n",
              "      <td>155333.0</td>\n",
              "      <td>156641.0</td>\n",
              "      <td>...</td>\n",
              "      <td>577409.0</td>\n",
              "      <td>581586.0</td>\n",
              "      <td>584349.0</td>\n",
              "      <td>586322.0</td>\n",
              "      <td>587472.0</td>\n",
              "      <td>589858.0</td>\n",
              "      <td>592600.0</td>\n",
              "      <td>596047.0</td>\n",
              "      <td>598356.0</td>\n",
              "      <td>601465.0</td>\n",
              "      <td>604288.0</td>\n",
              "      <td>606848.0</td>\n",
              "      <td>608000.0</td>\n",
              "      <td>608213.0</td>\n",
              "      <td>609892.0</td>\n",
              "      <td>611603.0</td>\n",
              "      <td>613536.0</td>\n",
              "      <td>614251.0</td>\n",
              "      <td>614393.0</td>\n",
              "      <td>614446.0</td>\n",
              "      <td>614655.0</td>\n",
              "      <td>615024.0</td>\n",
              "      <td>614758.0</td>\n",
              "      <td>614794.0</td>\n",
              "      <td>614698.0</td>\n",
              "      <td>613446.0</td>\n",
              "      <td>611603.0</td>\n",
              "      <td>609700.0</td>\n",
              "      <td>608613.0</td>\n",
              "      <td>607523.0</td>\n",
              "      <td>606162.0</td>\n",
              "      <td>604457.0</td>\n",
              "      <td>603126.0</td>\n",
              "      <td>601368.0</td>\n",
              "      <td>600138.0</td>\n",
              "      <td>598527.0</td>\n",
              "      <td>597268.0</td>\n",
              "      <td>597019.0</td>\n",
              "      <td>596725.0</td>\n",
              "      <td>596432.0</td>\n",
              "    </tr>\n",
              "    <tr>\n",
              "      <th>1</th>\n",
              "      <td>1</td>\n",
              "      <td>12447</td>\n",
              "      <td>1</td>\n",
              "      <td>Los Angeles</td>\n",
              "      <td>City</td>\n",
              "      <td>CA</td>\n",
              "      <td>CA</td>\n",
              "      <td>Los Angeles-Long Beach-Anaheim</td>\n",
              "      <td>Los Angeles County</td>\n",
              "      <td>114152.0</td>\n",
              "      <td>114014.0</td>\n",
              "      <td>113904.0</td>\n",
              "      <td>113826.0</td>\n",
              "      <td>113829.0</td>\n",
              "      <td>113908.0</td>\n",
              "      <td>113908.0</td>\n",
              "      <td>113522.0</td>\n",
              "      <td>112985.0</td>\n",
              "      <td>112203.0</td>\n",
              "      <td>111757.0</td>\n",
              "      <td>111314.0</td>\n",
              "      <td>110842.0</td>\n",
              "      <td>110414.0</td>\n",
              "      <td>110139.0</td>\n",
              "      <td>109983.0</td>\n",
              "      <td>109770.0</td>\n",
              "      <td>109515.0</td>\n",
              "      <td>109685.0</td>\n",
              "      <td>110508.0</td>\n",
              "      <td>111488.0</td>\n",
              "      <td>112766.0</td>\n",
              "      <td>113678.0</td>\n",
              "      <td>114926.0</td>\n",
              "      <td>116173.0</td>\n",
              "      <td>117554.0</td>\n",
              "      <td>118871.0</td>\n",
              "      <td>119989.0</td>\n",
              "      <td>121198.0</td>\n",
              "      <td>122402.0</td>\n",
              "      <td>123180.0</td>\n",
              "      <td>...</td>\n",
              "      <td>462453.0</td>\n",
              "      <td>465228.0</td>\n",
              "      <td>467896.0</td>\n",
              "      <td>470808.0</td>\n",
              "      <td>472308.0</td>\n",
              "      <td>475746.0</td>\n",
              "      <td>478859.0</td>\n",
              "      <td>483095.0</td>\n",
              "      <td>486752.0</td>\n",
              "      <td>490211.0</td>\n",
              "      <td>493095.0</td>\n",
              "      <td>498116.0</td>\n",
              "      <td>503116.0</td>\n",
              "      <td>507343.0</td>\n",
              "      <td>511543.0</td>\n",
              "      <td>517180.0</td>\n",
              "      <td>522014.0</td>\n",
              "      <td>524605.0</td>\n",
              "      <td>526132.0</td>\n",
              "      <td>528795.0</td>\n",
              "      <td>531680.0</td>\n",
              "      <td>533577.0</td>\n",
              "      <td>534986.0</td>\n",
              "      <td>535592.0</td>\n",
              "      <td>535472.0</td>\n",
              "      <td>535170.0</td>\n",
              "      <td>533386.0</td>\n",
              "      <td>531514.0</td>\n",
              "      <td>530124.0</td>\n",
              "      <td>530192.0</td>\n",
              "      <td>531014.0</td>\n",
              "      <td>530916.0</td>\n",
              "      <td>530814.0</td>\n",
              "      <td>531586.0</td>\n",
              "      <td>533161.0</td>\n",
              "      <td>534943.0</td>\n",
              "      <td>537784.0</td>\n",
              "      <td>541161.0</td>\n",
              "      <td>546048.0</td>\n",
              "      <td>550710.0</td>\n",
              "    </tr>\n",
              "    <tr>\n",
              "      <th>2</th>\n",
              "      <td>2</td>\n",
              "      <td>39051</td>\n",
              "      <td>2</td>\n",
              "      <td>Houston</td>\n",
              "      <td>City</td>\n",
              "      <td>TX</td>\n",
              "      <td>TX</td>\n",
              "      <td>Houston-The Woodlands-Sugar Land</td>\n",
              "      <td>Harris County</td>\n",
              "      <td>68246.0</td>\n",
              "      <td>68380.0</td>\n",
              "      <td>68409.0</td>\n",
              "      <td>68693.0</td>\n",
              "      <td>68877.0</td>\n",
              "      <td>68988.0</td>\n",
              "      <td>68898.0</td>\n",
              "      <td>69165.0</td>\n",
              "      <td>69405.0</td>\n",
              "      <td>69876.0</td>\n",
              "      <td>70220.0</td>\n",
              "      <td>70456.0</td>\n",
              "      <td>70343.0</td>\n",
              "      <td>69964.0</td>\n",
              "      <td>69796.0</td>\n",
              "      <td>69350.0</td>\n",
              "      <td>69111.0</td>\n",
              "      <td>69014.0</td>\n",
              "      <td>69333.0</td>\n",
              "      <td>68839.0</td>\n",
              "      <td>68314.0</td>\n",
              "      <td>67568.0</td>\n",
              "      <td>67264.0</td>\n",
              "      <td>67143.0</td>\n",
              "      <td>67543.0</td>\n",
              "      <td>68208.0</td>\n",
              "      <td>69020.0</td>\n",
              "      <td>69979.0</td>\n",
              "      <td>70814.0</td>\n",
              "      <td>71559.0</td>\n",
              "      <td>72087.0</td>\n",
              "      <td>...</td>\n",
              "      <td>96789.0</td>\n",
              "      <td>97146.0</td>\n",
              "      <td>97380.0</td>\n",
              "      <td>97511.0</td>\n",
              "      <td>97738.0</td>\n",
              "      <td>97789.0</td>\n",
              "      <td>97965.0</td>\n",
              "      <td>98072.0</td>\n",
              "      <td>98264.0</td>\n",
              "      <td>98261.0</td>\n",
              "      <td>98300.0</td>\n",
              "      <td>98429.0</td>\n",
              "      <td>98793.0</td>\n",
              "      <td>99232.0</td>\n",
              "      <td>99434.0</td>\n",
              "      <td>99702.0</td>\n",
              "      <td>100296.0</td>\n",
              "      <td>100960.0</td>\n",
              "      <td>101299.0</td>\n",
              "      <td>101623.0</td>\n",
              "      <td>101855.0</td>\n",
              "      <td>102559.0</td>\n",
              "      <td>102767.0</td>\n",
              "      <td>103192.0</td>\n",
              "      <td>103437.0</td>\n",
              "      <td>104090.0</td>\n",
              "      <td>104592.0</td>\n",
              "      <td>104751.0</td>\n",
              "      <td>104701.0</td>\n",
              "      <td>104701.0</td>\n",
              "      <td>104937.0</td>\n",
              "      <td>105155.0</td>\n",
              "      <td>105502.0</td>\n",
              "      <td>105618.0</td>\n",
              "      <td>106083.0</td>\n",
              "      <td>106186.0</td>\n",
              "      <td>106299.0</td>\n",
              "      <td>106161.0</td>\n",
              "      <td>106271.0</td>\n",
              "      <td>106635.0</td>\n",
              "    </tr>\n",
              "    <tr>\n",
              "      <th>3</th>\n",
              "      <td>3</td>\n",
              "      <td>17426</td>\n",
              "      <td>3</td>\n",
              "      <td>Chicago</td>\n",
              "      <td>City</td>\n",
              "      <td>IL</td>\n",
              "      <td>IL</td>\n",
              "      <td>Chicago-Naperville-Elgin</td>\n",
              "      <td>Cook County</td>\n",
              "      <td>95803.0</td>\n",
              "      <td>95724.0</td>\n",
              "      <td>95554.0</td>\n",
              "      <td>95804.0</td>\n",
              "      <td>95835.0</td>\n",
              "      <td>96166.0</td>\n",
              "      <td>96166.0</td>\n",
              "      <td>96646.0</td>\n",
              "      <td>97274.0</td>\n",
              "      <td>98025.0</td>\n",
              "      <td>98700.0</td>\n",
              "      <td>99100.0</td>\n",
              "      <td>99559.0</td>\n",
              "      <td>100093.0</td>\n",
              "      <td>100874.0</td>\n",
              "      <td>101037.0</td>\n",
              "      <td>101651.0</td>\n",
              "      <td>101786.0</td>\n",
              "      <td>102292.0</td>\n",
              "      <td>101966.0</td>\n",
              "      <td>101391.0</td>\n",
              "      <td>100530.0</td>\n",
              "      <td>99941.0</td>\n",
              "      <td>100122.0</td>\n",
              "      <td>100556.0</td>\n",
              "      <td>101137.0</td>\n",
              "      <td>101868.0</td>\n",
              "      <td>102642.0</td>\n",
              "      <td>103367.0</td>\n",
              "      <td>104193.0</td>\n",
              "      <td>105357.0</td>\n",
              "      <td>...</td>\n",
              "      <td>229857.0</td>\n",
              "      <td>230675.0</td>\n",
              "      <td>230868.0</td>\n",
              "      <td>232338.0</td>\n",
              "      <td>233389.0</td>\n",
              "      <td>234192.0</td>\n",
              "      <td>234670.0</td>\n",
              "      <td>235133.0</td>\n",
              "      <td>235996.0</td>\n",
              "      <td>236738.0</td>\n",
              "      <td>236829.0</td>\n",
              "      <td>236697.0</td>\n",
              "      <td>237293.0</td>\n",
              "      <td>239138.0</td>\n",
              "      <td>240484.0</td>\n",
              "      <td>240339.0</td>\n",
              "      <td>239624.0</td>\n",
              "      <td>239434.0</td>\n",
              "      <td>239531.0</td>\n",
              "      <td>239239.0</td>\n",
              "      <td>238904.0</td>\n",
              "      <td>239055.0</td>\n",
              "      <td>239568.0</td>\n",
              "      <td>240270.0</td>\n",
              "      <td>240633.0</td>\n",
              "      <td>239992.0</td>\n",
              "      <td>238981.0</td>\n",
              "      <td>238372.0</td>\n",
              "      <td>238491.0</td>\n",
              "      <td>238741.0</td>\n",
              "      <td>238850.0</td>\n",
              "      <td>239106.0</td>\n",
              "      <td>239230.0</td>\n",
              "      <td>239070.0</td>\n",
              "      <td>238942.0</td>\n",
              "      <td>238700.0</td>\n",
              "      <td>238530.0</td>\n",
              "      <td>238580.0</td>\n",
              "      <td>239266.0</td>\n",
              "      <td>240143.0</td>\n",
              "    </tr>\n",
              "    <tr>\n",
              "      <th>4</th>\n",
              "      <td>4</td>\n",
              "      <td>6915</td>\n",
              "      <td>4</td>\n",
              "      <td>San Antonio</td>\n",
              "      <td>City</td>\n",
              "      <td>TX</td>\n",
              "      <td>TX</td>\n",
              "      <td>San Antonio-New Braunfels</td>\n",
              "      <td>Bexar County</td>\n",
              "      <td>55420.0</td>\n",
              "      <td>55186.0</td>\n",
              "      <td>55046.0</td>\n",
              "      <td>54768.0</td>\n",
              "      <td>54613.0</td>\n",
              "      <td>54504.0</td>\n",
              "      <td>54599.0</td>\n",
              "      <td>54580.0</td>\n",
              "      <td>54611.0</td>\n",
              "      <td>54584.0</td>\n",
              "      <td>54867.0</td>\n",
              "      <td>55005.0</td>\n",
              "      <td>55038.0</td>\n",
              "      <td>54967.0</td>\n",
              "      <td>55090.0</td>\n",
              "      <td>55366.0</td>\n",
              "      <td>55421.0</td>\n",
              "      <td>55380.0</td>\n",
              "      <td>55044.0</td>\n",
              "      <td>55005.0</td>\n",
              "      <td>54981.0</td>\n",
              "      <td>55012.0</td>\n",
              "      <td>54907.0</td>\n",
              "      <td>54788.0</td>\n",
              "      <td>54949.0</td>\n",
              "      <td>55258.0</td>\n",
              "      <td>55592.0</td>\n",
              "      <td>55470.0</td>\n",
              "      <td>55602.0</td>\n",
              "      <td>55847.0</td>\n",
              "      <td>56240.0</td>\n",
              "      <td>...</td>\n",
              "      <td>72648.0</td>\n",
              "      <td>73510.0</td>\n",
              "      <td>74201.0</td>\n",
              "      <td>74728.0</td>\n",
              "      <td>75048.0</td>\n",
              "      <td>75538.0</td>\n",
              "      <td>76046.0</td>\n",
              "      <td>76924.0</td>\n",
              "      <td>77797.0</td>\n",
              "      <td>78617.0</td>\n",
              "      <td>79161.0</td>\n",
              "      <td>79829.0</td>\n",
              "      <td>80269.0</td>\n",
              "      <td>80409.0</td>\n",
              "      <td>80456.0</td>\n",
              "      <td>81041.0</td>\n",
              "      <td>81949.0</td>\n",
              "      <td>82545.0</td>\n",
              "      <td>83022.0</td>\n",
              "      <td>83497.0</td>\n",
              "      <td>84360.0</td>\n",
              "      <td>84602.0</td>\n",
              "      <td>85160.0</td>\n",
              "      <td>85282.0</td>\n",
              "      <td>86360.0</td>\n",
              "      <td>87147.0</td>\n",
              "      <td>88381.0</td>\n",
              "      <td>88914.0</td>\n",
              "      <td>89485.0</td>\n",
              "      <td>90030.0</td>\n",
              "      <td>90717.0</td>\n",
              "      <td>91135.0</td>\n",
              "      <td>91256.0</td>\n",
              "      <td>91958.0</td>\n",
              "      <td>92577.0</td>\n",
              "      <td>93383.0</td>\n",
              "      <td>93500.0</td>\n",
              "      <td>93963.0</td>\n",
              "      <td>94115.0</td>\n",
              "      <td>94557.0</td>\n",
              "    </tr>\n",
              "  </tbody>\n",
              "</table>\n",
              "<p>5 rows × 300 columns</p>\n",
              "</div>"
            ],
            "text/plain": [
              "   Unnamed: 0  RegionID  SizeRank  ... 2020-01-31 2020-02-29 2020-03-31\n",
              "0           0      6181         0  ...   597019.0   596725.0   596432.0\n",
              "1           1     12447         1  ...   541161.0   546048.0   550710.0\n",
              "2           2     39051         2  ...   106161.0   106271.0   106635.0\n",
              "3           3     17426         3  ...   238580.0   239266.0   240143.0\n",
              "4           4      6915         4  ...    93963.0    94115.0    94557.0\n",
              "\n",
              "[5 rows x 300 columns]"
            ]
          },
          "metadata": {
            "tags": []
          },
          "execution_count": 4
        }
      ]
    },
    {
      "cell_type": "code",
      "metadata": {
        "id": "17QHgYDn5C3v"
      },
      "source": [
        "zi_two = pd.read_csv('/content/City_Zhvi_2bedroom.csv')\n",
        "zi_three = pd.read_csv('/content/City_Zhvi_3bedroom.csv')\n",
        "zi_four = pd.read_csv('/content/City_Zhvi_4bedroom.csv')\n",
        "zi_five = pd.read_csv('/content/City_Zhvi_5BedroomOrMore.csv')"
      ],
      "execution_count": null,
      "outputs": []
    },
    {
      "cell_type": "markdown",
      "metadata": {
        "id": "tSfmIUsc5LVS"
      },
      "source": [
        "# Limpieza y Preparación de Datos\n",
        "\n",
        "Se seleccionan las columnas de interés. Se asigna una columna nueva con la característica del número de habitaciones. Se unen las 5 bases de datos. \n",
        "\n",
        "Columnas eliminadas:\n",
        "\n",
        "\n",
        "*   Region Type: no da información relevante. Solo contiene la variable City.\n",
        "*   State Name: Da la misma información que la columna State.\n",
        "*   Region ID: Columna que contiene ID's. Sin relevancia para el estudio.\n",
        "*   Unnamed Column: Columna de conteo.\n",
        "*   Todas las demás columnas de las diferentes fechas dado que no es un ejercicio de series de tiempo.\n",
        "\n"
      ]
    },
    {
      "cell_type": "code",
      "metadata": {
        "id": "GaHh_jKS5IFZ",
        "colab": {
          "base_uri": "https://localhost:8080/",
          "height": 204
        },
        "outputId": "40151abb-296c-4c70-e6e1-0c6d8e961530"
      },
      "source": [
        "zi_one = zi_one.iloc[:,[2,3,6,7,8,299]]\n",
        "zi_one.head()"
      ],
      "execution_count": null,
      "outputs": [
        {
          "output_type": "execute_result",
          "data": {
            "text/html": [
              "<div>\n",
              "<style scoped>\n",
              "    .dataframe tbody tr th:only-of-type {\n",
              "        vertical-align: middle;\n",
              "    }\n",
              "\n",
              "    .dataframe tbody tr th {\n",
              "        vertical-align: top;\n",
              "    }\n",
              "\n",
              "    .dataframe thead th {\n",
              "        text-align: right;\n",
              "    }\n",
              "</style>\n",
              "<table border=\"1\" class=\"dataframe\">\n",
              "  <thead>\n",
              "    <tr style=\"text-align: right;\">\n",
              "      <th></th>\n",
              "      <th>SizeRank</th>\n",
              "      <th>RegionName</th>\n",
              "      <th>State</th>\n",
              "      <th>Metro</th>\n",
              "      <th>CountyName</th>\n",
              "      <th>2020-03-31</th>\n",
              "    </tr>\n",
              "  </thead>\n",
              "  <tbody>\n",
              "    <tr>\n",
              "      <th>0</th>\n",
              "      <td>0</td>\n",
              "      <td>New York</td>\n",
              "      <td>NY</td>\n",
              "      <td>New York-Newark-Jersey City</td>\n",
              "      <td>Queens County</td>\n",
              "      <td>596432.0</td>\n",
              "    </tr>\n",
              "    <tr>\n",
              "      <th>1</th>\n",
              "      <td>1</td>\n",
              "      <td>Los Angeles</td>\n",
              "      <td>CA</td>\n",
              "      <td>Los Angeles-Long Beach-Anaheim</td>\n",
              "      <td>Los Angeles County</td>\n",
              "      <td>550710.0</td>\n",
              "    </tr>\n",
              "    <tr>\n",
              "      <th>2</th>\n",
              "      <td>2</td>\n",
              "      <td>Houston</td>\n",
              "      <td>TX</td>\n",
              "      <td>Houston-The Woodlands-Sugar Land</td>\n",
              "      <td>Harris County</td>\n",
              "      <td>106635.0</td>\n",
              "    </tr>\n",
              "    <tr>\n",
              "      <th>3</th>\n",
              "      <td>3</td>\n",
              "      <td>Chicago</td>\n",
              "      <td>IL</td>\n",
              "      <td>Chicago-Naperville-Elgin</td>\n",
              "      <td>Cook County</td>\n",
              "      <td>240143.0</td>\n",
              "    </tr>\n",
              "    <tr>\n",
              "      <th>4</th>\n",
              "      <td>4</td>\n",
              "      <td>San Antonio</td>\n",
              "      <td>TX</td>\n",
              "      <td>San Antonio-New Braunfels</td>\n",
              "      <td>Bexar County</td>\n",
              "      <td>94557.0</td>\n",
              "    </tr>\n",
              "  </tbody>\n",
              "</table>\n",
              "</div>"
            ],
            "text/plain": [
              "   SizeRank   RegionName  ...          CountyName 2020-03-31\n",
              "0         0     New York  ...       Queens County   596432.0\n",
              "1         1  Los Angeles  ...  Los Angeles County   550710.0\n",
              "2         2      Houston  ...       Harris County   106635.0\n",
              "3         3      Chicago  ...         Cook County   240143.0\n",
              "4         4  San Antonio  ...        Bexar County    94557.0\n",
              "\n",
              "[5 rows x 6 columns]"
            ]
          },
          "metadata": {
            "tags": []
          },
          "execution_count": 6
        }
      ]
    },
    {
      "cell_type": "code",
      "metadata": {
        "id": "kpIKriPE7QD8"
      },
      "source": [
        "zi_two = zi_two.iloc[:,[2,3,6,7,8,299]]\n",
        "zi_three = zi_three.iloc[:,[2,3,6,7,8,299]]\n",
        "zi_four = zi_four.iloc[:,[2,3,6,7,8,299]]\n",
        "zi_five = zi_five.iloc[:,[2,3,6,7,8,299]]"
      ],
      "execution_count": null,
      "outputs": []
    },
    {
      "cell_type": "code",
      "metadata": {
        "id": "PFKKkZgS7W9o",
        "colab": {
          "base_uri": "https://localhost:8080/",
          "height": 204
        },
        "outputId": "3bcc78ed-d7e6-41ff-b3cd-2b6be704fb63"
      },
      "source": [
        "zi_one = zi_one.assign(Rooms = 1)\n",
        "zi_one.head()"
      ],
      "execution_count": null,
      "outputs": [
        {
          "output_type": "execute_result",
          "data": {
            "text/html": [
              "<div>\n",
              "<style scoped>\n",
              "    .dataframe tbody tr th:only-of-type {\n",
              "        vertical-align: middle;\n",
              "    }\n",
              "\n",
              "    .dataframe tbody tr th {\n",
              "        vertical-align: top;\n",
              "    }\n",
              "\n",
              "    .dataframe thead th {\n",
              "        text-align: right;\n",
              "    }\n",
              "</style>\n",
              "<table border=\"1\" class=\"dataframe\">\n",
              "  <thead>\n",
              "    <tr style=\"text-align: right;\">\n",
              "      <th></th>\n",
              "      <th>SizeRank</th>\n",
              "      <th>RegionName</th>\n",
              "      <th>State</th>\n",
              "      <th>Metro</th>\n",
              "      <th>CountyName</th>\n",
              "      <th>2020-03-31</th>\n",
              "      <th>Rooms</th>\n",
              "    </tr>\n",
              "  </thead>\n",
              "  <tbody>\n",
              "    <tr>\n",
              "      <th>0</th>\n",
              "      <td>0</td>\n",
              "      <td>New York</td>\n",
              "      <td>NY</td>\n",
              "      <td>New York-Newark-Jersey City</td>\n",
              "      <td>Queens County</td>\n",
              "      <td>596432.0</td>\n",
              "      <td>1</td>\n",
              "    </tr>\n",
              "    <tr>\n",
              "      <th>1</th>\n",
              "      <td>1</td>\n",
              "      <td>Los Angeles</td>\n",
              "      <td>CA</td>\n",
              "      <td>Los Angeles-Long Beach-Anaheim</td>\n",
              "      <td>Los Angeles County</td>\n",
              "      <td>550710.0</td>\n",
              "      <td>1</td>\n",
              "    </tr>\n",
              "    <tr>\n",
              "      <th>2</th>\n",
              "      <td>2</td>\n",
              "      <td>Houston</td>\n",
              "      <td>TX</td>\n",
              "      <td>Houston-The Woodlands-Sugar Land</td>\n",
              "      <td>Harris County</td>\n",
              "      <td>106635.0</td>\n",
              "      <td>1</td>\n",
              "    </tr>\n",
              "    <tr>\n",
              "      <th>3</th>\n",
              "      <td>3</td>\n",
              "      <td>Chicago</td>\n",
              "      <td>IL</td>\n",
              "      <td>Chicago-Naperville-Elgin</td>\n",
              "      <td>Cook County</td>\n",
              "      <td>240143.0</td>\n",
              "      <td>1</td>\n",
              "    </tr>\n",
              "    <tr>\n",
              "      <th>4</th>\n",
              "      <td>4</td>\n",
              "      <td>San Antonio</td>\n",
              "      <td>TX</td>\n",
              "      <td>San Antonio-New Braunfels</td>\n",
              "      <td>Bexar County</td>\n",
              "      <td>94557.0</td>\n",
              "      <td>1</td>\n",
              "    </tr>\n",
              "  </tbody>\n",
              "</table>\n",
              "</div>"
            ],
            "text/plain": [
              "   SizeRank   RegionName State  ...          CountyName 2020-03-31  Rooms\n",
              "0         0     New York    NY  ...       Queens County   596432.0      1\n",
              "1         1  Los Angeles    CA  ...  Los Angeles County   550710.0      1\n",
              "2         2      Houston    TX  ...       Harris County   106635.0      1\n",
              "3         3      Chicago    IL  ...         Cook County   240143.0      1\n",
              "4         4  San Antonio    TX  ...        Bexar County    94557.0      1\n",
              "\n",
              "[5 rows x 7 columns]"
            ]
          },
          "metadata": {
            "tags": []
          },
          "execution_count": 8
        }
      ]
    },
    {
      "cell_type": "code",
      "metadata": {
        "id": "sZeNpflJ7dHh"
      },
      "source": [
        "zi_two = zi_two.assign(Rooms = 2)\n",
        "zi_three = zi_three.assign(Rooms = 3)\n",
        "zi_four = zi_four.assign(Rooms = 4)\n",
        "zi_five = zi_five.assign(Rooms = 5)"
      ],
      "execution_count": null,
      "outputs": []
    },
    {
      "cell_type": "code",
      "metadata": {
        "id": "jn-5Lr6j7jvF",
        "colab": {
          "base_uri": "https://localhost:8080/",
          "height": 419
        },
        "outputId": "49f6405f-9cc8-4851-d994-ae25fe443fcf"
      },
      "source": [
        "zi_total = zi_one.append(zi_two.append(zi_three.append(zi_four.append(zi_five))))\n",
        "zi_total"
      ],
      "execution_count": null,
      "outputs": [
        {
          "output_type": "execute_result",
          "data": {
            "text/html": [
              "<div>\n",
              "<style scoped>\n",
              "    .dataframe tbody tr th:only-of-type {\n",
              "        vertical-align: middle;\n",
              "    }\n",
              "\n",
              "    .dataframe tbody tr th {\n",
              "        vertical-align: top;\n",
              "    }\n",
              "\n",
              "    .dataframe thead th {\n",
              "        text-align: right;\n",
              "    }\n",
              "</style>\n",
              "<table border=\"1\" class=\"dataframe\">\n",
              "  <thead>\n",
              "    <tr style=\"text-align: right;\">\n",
              "      <th></th>\n",
              "      <th>SizeRank</th>\n",
              "      <th>RegionName</th>\n",
              "      <th>State</th>\n",
              "      <th>Metro</th>\n",
              "      <th>CountyName</th>\n",
              "      <th>2020-03-31</th>\n",
              "      <th>Rooms</th>\n",
              "    </tr>\n",
              "  </thead>\n",
              "  <tbody>\n",
              "    <tr>\n",
              "      <th>0</th>\n",
              "      <td>0</td>\n",
              "      <td>New York</td>\n",
              "      <td>NY</td>\n",
              "      <td>New York-Newark-Jersey City</td>\n",
              "      <td>Queens County</td>\n",
              "      <td>596432.0</td>\n",
              "      <td>1</td>\n",
              "    </tr>\n",
              "    <tr>\n",
              "      <th>1</th>\n",
              "      <td>1</td>\n",
              "      <td>Los Angeles</td>\n",
              "      <td>CA</td>\n",
              "      <td>Los Angeles-Long Beach-Anaheim</td>\n",
              "      <td>Los Angeles County</td>\n",
              "      <td>550710.0</td>\n",
              "      <td>1</td>\n",
              "    </tr>\n",
              "    <tr>\n",
              "      <th>2</th>\n",
              "      <td>2</td>\n",
              "      <td>Houston</td>\n",
              "      <td>TX</td>\n",
              "      <td>Houston-The Woodlands-Sugar Land</td>\n",
              "      <td>Harris County</td>\n",
              "      <td>106635.0</td>\n",
              "      <td>1</td>\n",
              "    </tr>\n",
              "    <tr>\n",
              "      <th>3</th>\n",
              "      <td>3</td>\n",
              "      <td>Chicago</td>\n",
              "      <td>IL</td>\n",
              "      <td>Chicago-Naperville-Elgin</td>\n",
              "      <td>Cook County</td>\n",
              "      <td>240143.0</td>\n",
              "      <td>1</td>\n",
              "    </tr>\n",
              "    <tr>\n",
              "      <th>4</th>\n",
              "      <td>4</td>\n",
              "      <td>San Antonio</td>\n",
              "      <td>TX</td>\n",
              "      <td>San Antonio-New Braunfels</td>\n",
              "      <td>Bexar County</td>\n",
              "      <td>94557.0</td>\n",
              "      <td>1</td>\n",
              "    </tr>\n",
              "    <tr>\n",
              "      <th>...</th>\n",
              "      <td>...</td>\n",
              "      <td>...</td>\n",
              "      <td>...</td>\n",
              "      <td>...</td>\n",
              "      <td>...</td>\n",
              "      <td>...</td>\n",
              "      <td>...</td>\n",
              "    </tr>\n",
              "    <tr>\n",
              "      <th>18765</th>\n",
              "      <td>29449</td>\n",
              "      <td>Reiles Acres</td>\n",
              "      <td>ND</td>\n",
              "      <td>Fargo</td>\n",
              "      <td>Cass County</td>\n",
              "      <td>403231.0</td>\n",
              "      <td>5</td>\n",
              "    </tr>\n",
              "    <tr>\n",
              "      <th>18766</th>\n",
              "      <td>29449</td>\n",
              "      <td>Port William</td>\n",
              "      <td>OH</td>\n",
              "      <td>Wilmington</td>\n",
              "      <td>Clinton County</td>\n",
              "      <td>85300.0</td>\n",
              "      <td>5</td>\n",
              "    </tr>\n",
              "    <tr>\n",
              "      <th>18767</th>\n",
              "      <td>29449</td>\n",
              "      <td>Bolivar</td>\n",
              "      <td>WV</td>\n",
              "      <td>Washington-Arlington-Alexandria</td>\n",
              "      <td>Jefferson County</td>\n",
              "      <td>311726.0</td>\n",
              "      <td>5</td>\n",
              "    </tr>\n",
              "    <tr>\n",
              "      <th>18768</th>\n",
              "      <td>29449</td>\n",
              "      <td>Strawberry Point</td>\n",
              "      <td>IA</td>\n",
              "      <td>NaN</td>\n",
              "      <td>Clayton County</td>\n",
              "      <td>120536.0</td>\n",
              "      <td>5</td>\n",
              "    </tr>\n",
              "    <tr>\n",
              "      <th>18769</th>\n",
              "      <td>29449</td>\n",
              "      <td>Oriskany Falls</td>\n",
              "      <td>NY</td>\n",
              "      <td>Utica-Rome</td>\n",
              "      <td>Oneida County</td>\n",
              "      <td>90973.0</td>\n",
              "      <td>5</td>\n",
              "    </tr>\n",
              "  </tbody>\n",
              "</table>\n",
              "<p>106291 rows × 7 columns</p>\n",
              "</div>"
            ],
            "text/plain": [
              "       SizeRank        RegionName State  ...          CountyName 2020-03-31  Rooms\n",
              "0             0          New York    NY  ...       Queens County   596432.0      1\n",
              "1             1       Los Angeles    CA  ...  Los Angeles County   550710.0      1\n",
              "2             2           Houston    TX  ...       Harris County   106635.0      1\n",
              "3             3           Chicago    IL  ...         Cook County   240143.0      1\n",
              "4             4       San Antonio    TX  ...        Bexar County    94557.0      1\n",
              "...         ...               ...   ...  ...                 ...        ...    ...\n",
              "18765     29449      Reiles Acres    ND  ...         Cass County   403231.0      5\n",
              "18766     29449      Port William    OH  ...      Clinton County    85300.0      5\n",
              "18767     29449           Bolivar    WV  ...    Jefferson County   311726.0      5\n",
              "18768     29449  Strawberry Point    IA  ...      Clayton County   120536.0      5\n",
              "18769     29449    Oriskany Falls    NY  ...       Oneida County    90973.0      5\n",
              "\n",
              "[106291 rows x 7 columns]"
            ]
          },
          "metadata": {
            "tags": []
          },
          "execution_count": 10
        }
      ]
    },
    {
      "cell_type": "code",
      "metadata": {
        "id": "98u9Gow47-NG"
      },
      "source": [
        "zi_total = zi_total.rename(columns = {'2020-03-31':'Price'})"
      ],
      "execution_count": null,
      "outputs": []
    },
    {
      "cell_type": "markdown",
      "metadata": {
        "id": "_kJTljhd7wS5"
      },
      "source": [
        "# Descripción de datos\n",
        "\n",
        "Primer análisis de los datos para ver su comportamiento y distribución."
      ]
    },
    {
      "cell_type": "code",
      "metadata": {
        "id": "4EZ5BvOe7qV4",
        "colab": {
          "base_uri": "https://localhost:8080/",
          "height": 297
        },
        "outputId": "1a6ffa72-9ce6-4c36-f8ad-3020d50c2f3c"
      },
      "source": [
        "zi_total.describe()"
      ],
      "execution_count": null,
      "outputs": [
        {
          "output_type": "execute_result",
          "data": {
            "text/html": [
              "<div>\n",
              "<style scoped>\n",
              "    .dataframe tbody tr th:only-of-type {\n",
              "        vertical-align: middle;\n",
              "    }\n",
              "\n",
              "    .dataframe tbody tr th {\n",
              "        vertical-align: top;\n",
              "    }\n",
              "\n",
              "    .dataframe thead th {\n",
              "        text-align: right;\n",
              "    }\n",
              "</style>\n",
              "<table border=\"1\" class=\"dataframe\">\n",
              "  <thead>\n",
              "    <tr style=\"text-align: right;\">\n",
              "      <th></th>\n",
              "      <th>SizeRank</th>\n",
              "      <th>Price</th>\n",
              "      <th>Rooms</th>\n",
              "    </tr>\n",
              "  </thead>\n",
              "  <tbody>\n",
              "    <tr>\n",
              "      <th>count</th>\n",
              "      <td>106291.000000</td>\n",
              "      <td>1.062910e+05</td>\n",
              "      <td>106291.000000</td>\n",
              "    </tr>\n",
              "    <tr>\n",
              "      <th>mean</th>\n",
              "      <td>12954.011835</td>\n",
              "      <td>2.364936e+05</td>\n",
              "      <td>3.072941</td>\n",
              "    </tr>\n",
              "    <tr>\n",
              "      <th>std</th>\n",
              "      <td>8443.426598</td>\n",
              "      <td>2.774247e+05</td>\n",
              "      <td>1.305241</td>\n",
              "    </tr>\n",
              "    <tr>\n",
              "      <th>min</th>\n",
              "      <td>0.000000</td>\n",
              "      <td>1.140100e+04</td>\n",
              "      <td>1.000000</td>\n",
              "    </tr>\n",
              "    <tr>\n",
              "      <th>25%</th>\n",
              "      <td>5685.000000</td>\n",
              "      <td>1.079675e+05</td>\n",
              "      <td>2.000000</td>\n",
              "    </tr>\n",
              "    <tr>\n",
              "      <th>50%</th>\n",
              "      <td>11925.000000</td>\n",
              "      <td>1.716540e+05</td>\n",
              "      <td>3.000000</td>\n",
              "    </tr>\n",
              "    <tr>\n",
              "      <th>75%</th>\n",
              "      <td>19686.000000</td>\n",
              "      <td>2.776705e+05</td>\n",
              "      <td>4.000000</td>\n",
              "    </tr>\n",
              "    <tr>\n",
              "      <th>max</th>\n",
              "      <td>29449.000000</td>\n",
              "      <td>1.069403e+07</td>\n",
              "      <td>5.000000</td>\n",
              "    </tr>\n",
              "  </tbody>\n",
              "</table>\n",
              "</div>"
            ],
            "text/plain": [
              "            SizeRank         Price          Rooms\n",
              "count  106291.000000  1.062910e+05  106291.000000\n",
              "mean    12954.011835  2.364936e+05       3.072941\n",
              "std      8443.426598  2.774247e+05       1.305241\n",
              "min         0.000000  1.140100e+04       1.000000\n",
              "25%      5685.000000  1.079675e+05       2.000000\n",
              "50%     11925.000000  1.716540e+05       3.000000\n",
              "75%     19686.000000  2.776705e+05       4.000000\n",
              "max     29449.000000  1.069403e+07       5.000000"
            ]
          },
          "metadata": {
            "tags": []
          },
          "execution_count": 12
        }
      ]
    },
    {
      "cell_type": "code",
      "metadata": {
        "id": "bD8awI_y809a",
        "colab": {
          "base_uri": "https://localhost:8080/",
          "height": 1000
        },
        "outputId": "e1c8eab0-a919-48e0-f162-138f4ff0e0c1"
      },
      "source": [
        "zi_total.groupby(['State'])['Price'].describe()"
      ],
      "execution_count": null,
      "outputs": [
        {
          "output_type": "execute_result",
          "data": {
            "text/html": [
              "<div>\n",
              "<style scoped>\n",
              "    .dataframe tbody tr th:only-of-type {\n",
              "        vertical-align: middle;\n",
              "    }\n",
              "\n",
              "    .dataframe tbody tr th {\n",
              "        vertical-align: top;\n",
              "    }\n",
              "\n",
              "    .dataframe thead th {\n",
              "        text-align: right;\n",
              "    }\n",
              "</style>\n",
              "<table border=\"1\" class=\"dataframe\">\n",
              "  <thead>\n",
              "    <tr style=\"text-align: right;\">\n",
              "      <th></th>\n",
              "      <th>count</th>\n",
              "      <th>mean</th>\n",
              "      <th>std</th>\n",
              "      <th>min</th>\n",
              "      <th>25%</th>\n",
              "      <th>50%</th>\n",
              "      <th>75%</th>\n",
              "      <th>max</th>\n",
              "    </tr>\n",
              "    <tr>\n",
              "      <th>State</th>\n",
              "      <th></th>\n",
              "      <th></th>\n",
              "      <th></th>\n",
              "      <th></th>\n",
              "      <th></th>\n",
              "      <th></th>\n",
              "      <th></th>\n",
              "      <th></th>\n",
              "    </tr>\n",
              "  </thead>\n",
              "  <tbody>\n",
              "    <tr>\n",
              "      <th>AK</th>\n",
              "      <td>175.0</td>\n",
              "      <td>265658.182857</td>\n",
              "      <td>107776.489679</td>\n",
              "      <td>58407.0</td>\n",
              "      <td>186698.50</td>\n",
              "      <td>252089.0</td>\n",
              "      <td>337844.50</td>\n",
              "      <td>768634.0</td>\n",
              "    </tr>\n",
              "    <tr>\n",
              "      <th>AL</th>\n",
              "      <td>1648.0</td>\n",
              "      <td>157894.945388</td>\n",
              "      <td>101539.339347</td>\n",
              "      <td>18995.0</td>\n",
              "      <td>87006.00</td>\n",
              "      <td>134859.0</td>\n",
              "      <td>198133.25</td>\n",
              "      <td>953760.0</td>\n",
              "    </tr>\n",
              "    <tr>\n",
              "      <th>AR</th>\n",
              "      <td>1343.0</td>\n",
              "      <td>139403.448995</td>\n",
              "      <td>86881.817803</td>\n",
              "      <td>18196.0</td>\n",
              "      <td>78678.00</td>\n",
              "      <td>116459.0</td>\n",
              "      <td>173188.50</td>\n",
              "      <td>740045.0</td>\n",
              "    </tr>\n",
              "    <tr>\n",
              "      <th>AZ</th>\n",
              "      <td>743.0</td>\n",
              "      <td>266705.366083</td>\n",
              "      <td>202106.978897</td>\n",
              "      <td>44143.0</td>\n",
              "      <td>153049.00</td>\n",
              "      <td>222764.0</td>\n",
              "      <td>317603.50</td>\n",
              "      <td>2475441.0</td>\n",
              "    </tr>\n",
              "    <tr>\n",
              "      <th>CA</th>\n",
              "      <td>4852.0</td>\n",
              "      <td>628950.929101</td>\n",
              "      <td>665780.679396</td>\n",
              "      <td>29232.0</td>\n",
              "      <td>274446.75</td>\n",
              "      <td>431668.0</td>\n",
              "      <td>711211.50</td>\n",
              "      <td>9737475.0</td>\n",
              "    </tr>\n",
              "    <tr>\n",
              "      <th>CO</th>\n",
              "      <td>1739.0</td>\n",
              "      <td>403698.213341</td>\n",
              "      <td>451766.138193</td>\n",
              "      <td>31161.0</td>\n",
              "      <td>208925.00</td>\n",
              "      <td>335839.0</td>\n",
              "      <td>470045.50</td>\n",
              "      <td>10521270.0</td>\n",
              "    </tr>\n",
              "    <tr>\n",
              "      <th>CT</th>\n",
              "      <td>902.0</td>\n",
              "      <td>305041.436807</td>\n",
              "      <td>214881.412306</td>\n",
              "      <td>44102.0</td>\n",
              "      <td>189846.00</td>\n",
              "      <td>255571.0</td>\n",
              "      <td>352395.00</td>\n",
              "      <td>2895658.0</td>\n",
              "    </tr>\n",
              "    <tr>\n",
              "      <th>DC</th>\n",
              "      <td>5.0</td>\n",
              "      <td>823483.400000</td>\n",
              "      <td>409260.293708</td>\n",
              "      <td>420514.0</td>\n",
              "      <td>602622.00</td>\n",
              "      <td>690459.0</td>\n",
              "      <td>923791.00</td>\n",
              "      <td>1480031.0</td>\n",
              "    </tr>\n",
              "    <tr>\n",
              "      <th>DE</th>\n",
              "      <td>273.0</td>\n",
              "      <td>311423.113553</td>\n",
              "      <td>273613.226459</td>\n",
              "      <td>77966.0</td>\n",
              "      <td>184322.00</td>\n",
              "      <td>242649.0</td>\n",
              "      <td>320301.00</td>\n",
              "      <td>2079307.0</td>\n",
              "    </tr>\n",
              "    <tr>\n",
              "      <th>FL</th>\n",
              "      <td>3071.0</td>\n",
              "      <td>378148.558124</td>\n",
              "      <td>626733.866373</td>\n",
              "      <td>29483.0</td>\n",
              "      <td>150875.50</td>\n",
              "      <td>238953.0</td>\n",
              "      <td>374611.50</td>\n",
              "      <td>10694026.0</td>\n",
              "    </tr>\n",
              "    <tr>\n",
              "      <th>GA</th>\n",
              "      <td>2520.0</td>\n",
              "      <td>189398.824206</td>\n",
              "      <td>162091.285324</td>\n",
              "      <td>14447.0</td>\n",
              "      <td>100439.75</td>\n",
              "      <td>158822.0</td>\n",
              "      <td>231353.00</td>\n",
              "      <td>2674931.0</td>\n",
              "    </tr>\n",
              "    <tr>\n",
              "      <th>HI</th>\n",
              "      <td>317.0</td>\n",
              "      <td>662374.930599</td>\n",
              "      <td>452092.353227</td>\n",
              "      <td>150594.0</td>\n",
              "      <td>410848.00</td>\n",
              "      <td>609524.0</td>\n",
              "      <td>789822.00</td>\n",
              "      <td>5660156.0</td>\n",
              "    </tr>\n",
              "    <tr>\n",
              "      <th>IA</th>\n",
              "      <td>3984.0</td>\n",
              "      <td>129595.713855</td>\n",
              "      <td>82504.755006</td>\n",
              "      <td>18015.0</td>\n",
              "      <td>74711.25</td>\n",
              "      <td>114103.0</td>\n",
              "      <td>163762.25</td>\n",
              "      <td>1403008.0</td>\n",
              "    </tr>\n",
              "    <tr>\n",
              "      <th>ID</th>\n",
              "      <td>1051.0</td>\n",
              "      <td>273937.604186</td>\n",
              "      <td>193220.170195</td>\n",
              "      <td>66478.0</td>\n",
              "      <td>172417.50</td>\n",
              "      <td>238482.0</td>\n",
              "      <td>322553.00</td>\n",
              "      <td>3038967.0</td>\n",
              "    </tr>\n",
              "    <tr>\n",
              "      <th>IL</th>\n",
              "      <td>4531.0</td>\n",
              "      <td>160219.126904</td>\n",
              "      <td>129764.270212</td>\n",
              "      <td>16775.0</td>\n",
              "      <td>81577.50</td>\n",
              "      <td>124634.0</td>\n",
              "      <td>196815.50</td>\n",
              "      <td>1712233.0</td>\n",
              "    </tr>\n",
              "    <tr>\n",
              "      <th>IN</th>\n",
              "      <td>3087.0</td>\n",
              "      <td>148681.721088</td>\n",
              "      <td>86891.803034</td>\n",
              "      <td>20261.0</td>\n",
              "      <td>90718.50</td>\n",
              "      <td>132982.0</td>\n",
              "      <td>182902.50</td>\n",
              "      <td>1020372.0</td>\n",
              "    </tr>\n",
              "    <tr>\n",
              "      <th>KS</th>\n",
              "      <td>1967.0</td>\n",
              "      <td>128668.355872</td>\n",
              "      <td>97920.027500</td>\n",
              "      <td>19237.0</td>\n",
              "      <td>69988.00</td>\n",
              "      <td>106163.0</td>\n",
              "      <td>162361.00</td>\n",
              "      <td>1449956.0</td>\n",
              "    </tr>\n",
              "    <tr>\n",
              "      <th>KY</th>\n",
              "      <td>2504.0</td>\n",
              "      <td>120012.529952</td>\n",
              "      <td>83297.289853</td>\n",
              "      <td>11401.0</td>\n",
              "      <td>63477.25</td>\n",
              "      <td>96542.5</td>\n",
              "      <td>151045.25</td>\n",
              "      <td>622216.0</td>\n",
              "    </tr>\n",
              "    <tr>\n",
              "      <th>LA</th>\n",
              "      <td>1201.0</td>\n",
              "      <td>163790.875937</td>\n",
              "      <td>93185.843528</td>\n",
              "      <td>23626.0</td>\n",
              "      <td>96994.00</td>\n",
              "      <td>140122.0</td>\n",
              "      <td>204092.00</td>\n",
              "      <td>808398.0</td>\n",
              "    </tr>\n",
              "    <tr>\n",
              "      <th>MA</th>\n",
              "      <td>1806.0</td>\n",
              "      <td>439363.728128</td>\n",
              "      <td>302142.816460</td>\n",
              "      <td>62969.0</td>\n",
              "      <td>253857.00</td>\n",
              "      <td>358189.0</td>\n",
              "      <td>531812.50</td>\n",
              "      <td>3353677.0</td>\n",
              "    </tr>\n",
              "    <tr>\n",
              "      <th>MD</th>\n",
              "      <td>1722.0</td>\n",
              "      <td>335504.307201</td>\n",
              "      <td>200528.707651</td>\n",
              "      <td>22030.0</td>\n",
              "      <td>210841.75</td>\n",
              "      <td>298737.0</td>\n",
              "      <td>404363.75</td>\n",
              "      <td>1846421.0</td>\n",
              "    </tr>\n",
              "    <tr>\n",
              "      <th>ME</th>\n",
              "      <td>1692.0</td>\n",
              "      <td>208697.089835</td>\n",
              "      <td>131111.846998</td>\n",
              "      <td>36632.0</td>\n",
              "      <td>128259.75</td>\n",
              "      <td>175968.0</td>\n",
              "      <td>251224.75</td>\n",
              "      <td>1900794.0</td>\n",
              "    </tr>\n",
              "    <tr>\n",
              "      <th>MI</th>\n",
              "      <td>3743.0</td>\n",
              "      <td>178017.928133</td>\n",
              "      <td>117908.080489</td>\n",
              "      <td>16748.0</td>\n",
              "      <td>104072.00</td>\n",
              "      <td>151229.0</td>\n",
              "      <td>216880.00</td>\n",
              "      <td>1489356.0</td>\n",
              "    </tr>\n",
              "    <tr>\n",
              "      <th>MN</th>\n",
              "      <td>3525.0</td>\n",
              "      <td>209783.073191</td>\n",
              "      <td>137535.537146</td>\n",
              "      <td>19354.0</td>\n",
              "      <td>123177.00</td>\n",
              "      <td>185214.0</td>\n",
              "      <td>261513.00</td>\n",
              "      <td>1992774.0</td>\n",
              "    </tr>\n",
              "    <tr>\n",
              "      <th>MO</th>\n",
              "      <td>3494.0</td>\n",
              "      <td>159046.557813</td>\n",
              "      <td>123595.783205</td>\n",
              "      <td>20461.0</td>\n",
              "      <td>90891.75</td>\n",
              "      <td>133100.0</td>\n",
              "      <td>184810.25</td>\n",
              "      <td>2154383.0</td>\n",
              "    </tr>\n",
              "    <tr>\n",
              "      <th>MS</th>\n",
              "      <td>1137.0</td>\n",
              "      <td>145255.980651</td>\n",
              "      <td>242425.896176</td>\n",
              "      <td>14487.0</td>\n",
              "      <td>84168.00</td>\n",
              "      <td>117472.0</td>\n",
              "      <td>173669.00</td>\n",
              "      <td>7896711.0</td>\n",
              "    </tr>\n",
              "    <tr>\n",
              "      <th>MT</th>\n",
              "      <td>955.0</td>\n",
              "      <td>283256.915183</td>\n",
              "      <td>158934.892947</td>\n",
              "      <td>40449.0</td>\n",
              "      <td>183012.00</td>\n",
              "      <td>253222.0</td>\n",
              "      <td>337851.50</td>\n",
              "      <td>2628671.0</td>\n",
              "    </tr>\n",
              "    <tr>\n",
              "      <th>NC</th>\n",
              "      <td>3198.0</td>\n",
              "      <td>207424.436836</td>\n",
              "      <td>153265.923935</td>\n",
              "      <td>13496.0</td>\n",
              "      <td>106814.00</td>\n",
              "      <td>173918.5</td>\n",
              "      <td>262280.25</td>\n",
              "      <td>1860350.0</td>\n",
              "    </tr>\n",
              "    <tr>\n",
              "      <th>ND</th>\n",
              "      <td>453.0</td>\n",
              "      <td>173715.161148</td>\n",
              "      <td>86014.957466</td>\n",
              "      <td>30868.0</td>\n",
              "      <td>107372.00</td>\n",
              "      <td>161330.0</td>\n",
              "      <td>227533.00</td>\n",
              "      <td>532103.0</td>\n",
              "    </tr>\n",
              "    <tr>\n",
              "      <th>NE</th>\n",
              "      <td>1535.0</td>\n",
              "      <td>150727.763518</td>\n",
              "      <td>88414.586126</td>\n",
              "      <td>20541.0</td>\n",
              "      <td>87177.50</td>\n",
              "      <td>134181.0</td>\n",
              "      <td>192568.50</td>\n",
              "      <td>1065832.0</td>\n",
              "    </tr>\n",
              "    <tr>\n",
              "      <th>NH</th>\n",
              "      <td>1178.0</td>\n",
              "      <td>295405.873514</td>\n",
              "      <td>174193.217034</td>\n",
              "      <td>32864.0</td>\n",
              "      <td>191032.00</td>\n",
              "      <td>260361.0</td>\n",
              "      <td>354417.00</td>\n",
              "      <td>1871775.0</td>\n",
              "    </tr>\n",
              "    <tr>\n",
              "      <th>NJ</th>\n",
              "      <td>2356.0</td>\n",
              "      <td>407136.872666</td>\n",
              "      <td>288693.663601</td>\n",
              "      <td>35940.0</td>\n",
              "      <td>221730.75</td>\n",
              "      <td>344905.0</td>\n",
              "      <td>498497.00</td>\n",
              "      <td>2935348.0</td>\n",
              "    </tr>\n",
              "    <tr>\n",
              "      <th>NM</th>\n",
              "      <td>533.0</td>\n",
              "      <td>204329.360225</td>\n",
              "      <td>119222.525963</td>\n",
              "      <td>39906.0</td>\n",
              "      <td>126444.00</td>\n",
              "      <td>177094.0</td>\n",
              "      <td>247732.00</td>\n",
              "      <td>894958.0</td>\n",
              "    </tr>\n",
              "    <tr>\n",
              "      <th>NV</th>\n",
              "      <td>275.0</td>\n",
              "      <td>321409.898182</td>\n",
              "      <td>318942.285482</td>\n",
              "      <td>38648.0</td>\n",
              "      <td>155123.50</td>\n",
              "      <td>254279.0</td>\n",
              "      <td>378868.50</td>\n",
              "      <td>3002820.0</td>\n",
              "    </tr>\n",
              "    <tr>\n",
              "      <th>NY</th>\n",
              "      <td>5354.0</td>\n",
              "      <td>258973.854501</td>\n",
              "      <td>317176.295411</td>\n",
              "      <td>27432.0</td>\n",
              "      <td>114755.00</td>\n",
              "      <td>161030.0</td>\n",
              "      <td>272888.75</td>\n",
              "      <td>7376113.0</td>\n",
              "    </tr>\n",
              "    <tr>\n",
              "      <th>OH</th>\n",
              "      <td>4931.0</td>\n",
              "      <td>151494.937132</td>\n",
              "      <td>102780.528741</td>\n",
              "      <td>17220.0</td>\n",
              "      <td>87649.50</td>\n",
              "      <td>129950.0</td>\n",
              "      <td>182517.00</td>\n",
              "      <td>1562144.0</td>\n",
              "    </tr>\n",
              "    <tr>\n",
              "      <th>OK</th>\n",
              "      <td>2102.0</td>\n",
              "      <td>111671.515224</td>\n",
              "      <td>86182.711686</td>\n",
              "      <td>14828.0</td>\n",
              "      <td>57542.75</td>\n",
              "      <td>91122.0</td>\n",
              "      <td>144362.00</td>\n",
              "      <td>1451965.0</td>\n",
              "    </tr>\n",
              "    <tr>\n",
              "      <th>OR</th>\n",
              "      <td>1555.0</td>\n",
              "      <td>320155.737621</td>\n",
              "      <td>142390.158311</td>\n",
              "      <td>40106.0</td>\n",
              "      <td>219993.50</td>\n",
              "      <td>299177.0</td>\n",
              "      <td>403396.00</td>\n",
              "      <td>969380.0</td>\n",
              "    </tr>\n",
              "    <tr>\n",
              "      <th>PA</th>\n",
              "      <td>7008.0</td>\n",
              "      <td>179468.000000</td>\n",
              "      <td>115427.773154</td>\n",
              "      <td>11619.0</td>\n",
              "      <td>106151.75</td>\n",
              "      <td>155269.5</td>\n",
              "      <td>220370.75</td>\n",
              "      <td>1897107.0</td>\n",
              "    </tr>\n",
              "    <tr>\n",
              "      <th>RI</th>\n",
              "      <td>211.0</td>\n",
              "      <td>388083.819905</td>\n",
              "      <td>254205.346632</td>\n",
              "      <td>85675.0</td>\n",
              "      <td>253477.50</td>\n",
              "      <td>323587.0</td>\n",
              "      <td>421070.50</td>\n",
              "      <td>1726682.0</td>\n",
              "    </tr>\n",
              "    <tr>\n",
              "      <th>SC</th>\n",
              "      <td>1351.0</td>\n",
              "      <td>199877.413027</td>\n",
              "      <td>217825.853094</td>\n",
              "      <td>18766.0</td>\n",
              "      <td>94479.00</td>\n",
              "      <td>148797.0</td>\n",
              "      <td>235563.50</td>\n",
              "      <td>2607029.0</td>\n",
              "    </tr>\n",
              "    <tr>\n",
              "      <th>SD</th>\n",
              "      <td>574.0</td>\n",
              "      <td>180991.815331</td>\n",
              "      <td>87637.620319</td>\n",
              "      <td>26645.0</td>\n",
              "      <td>109960.75</td>\n",
              "      <td>169853.0</td>\n",
              "      <td>234262.25</td>\n",
              "      <td>497906.0</td>\n",
              "    </tr>\n",
              "    <tr>\n",
              "      <th>TN</th>\n",
              "      <td>2075.0</td>\n",
              "      <td>186548.666506</td>\n",
              "      <td>131267.797238</td>\n",
              "      <td>23188.0</td>\n",
              "      <td>102139.00</td>\n",
              "      <td>154987.0</td>\n",
              "      <td>234840.00</td>\n",
              "      <td>1532817.0</td>\n",
              "    </tr>\n",
              "    <tr>\n",
              "      <th>TX</th>\n",
              "      <td>4825.0</td>\n",
              "      <td>221665.368083</td>\n",
              "      <td>175030.659554</td>\n",
              "      <td>20104.0</td>\n",
              "      <td>120767.00</td>\n",
              "      <td>180062.0</td>\n",
              "      <td>267692.00</td>\n",
              "      <td>3338751.0</td>\n",
              "    </tr>\n",
              "    <tr>\n",
              "      <th>UT</th>\n",
              "      <td>883.0</td>\n",
              "      <td>338140.073613</td>\n",
              "      <td>169554.087325</td>\n",
              "      <td>53529.0</td>\n",
              "      <td>234580.00</td>\n",
              "      <td>310442.0</td>\n",
              "      <td>403650.50</td>\n",
              "      <td>2059064.0</td>\n",
              "    </tr>\n",
              "    <tr>\n",
              "      <th>VA</th>\n",
              "      <td>2871.0</td>\n",
              "      <td>241939.755834</td>\n",
              "      <td>181178.371847</td>\n",
              "      <td>20229.0</td>\n",
              "      <td>122778.00</td>\n",
              "      <td>190425.0</td>\n",
              "      <td>306405.00</td>\n",
              "      <td>2056199.0</td>\n",
              "    </tr>\n",
              "    <tr>\n",
              "      <th>VT</th>\n",
              "      <td>1010.0</td>\n",
              "      <td>238380.122772</td>\n",
              "      <td>104538.759495</td>\n",
              "      <td>66434.0</td>\n",
              "      <td>168548.25</td>\n",
              "      <td>211455.5</td>\n",
              "      <td>281482.50</td>\n",
              "      <td>876418.0</td>\n",
              "    </tr>\n",
              "    <tr>\n",
              "      <th>WA</th>\n",
              "      <td>2043.0</td>\n",
              "      <td>383782.387176</td>\n",
              "      <td>384459.787032</td>\n",
              "      <td>46606.0</td>\n",
              "      <td>224356.50</td>\n",
              "      <td>318329.0</td>\n",
              "      <td>442539.50</td>\n",
              "      <td>9215758.0</td>\n",
              "    </tr>\n",
              "    <tr>\n",
              "      <th>WI</th>\n",
              "      <td>3351.0</td>\n",
              "      <td>213146.706655</td>\n",
              "      <td>130312.248747</td>\n",
              "      <td>37854.0</td>\n",
              "      <td>134067.50</td>\n",
              "      <td>182438.0</td>\n",
              "      <td>260274.00</td>\n",
              "      <td>2052777.0</td>\n",
              "    </tr>\n",
              "    <tr>\n",
              "      <th>WV</th>\n",
              "      <td>2051.0</td>\n",
              "      <td>96903.064846</td>\n",
              "      <td>63472.604410</td>\n",
              "      <td>14378.0</td>\n",
              "      <td>55478.00</td>\n",
              "      <td>81561.0</td>\n",
              "      <td>116850.50</td>\n",
              "      <td>671924.0</td>\n",
              "    </tr>\n",
              "    <tr>\n",
              "      <th>WY</th>\n",
              "      <td>581.0</td>\n",
              "      <td>296590.196213</td>\n",
              "      <td>337233.699156</td>\n",
              "      <td>55332.0</td>\n",
              "      <td>186504.00</td>\n",
              "      <td>246854.0</td>\n",
              "      <td>325705.00</td>\n",
              "      <td>4754942.0</td>\n",
              "    </tr>\n",
              "  </tbody>\n",
              "</table>\n",
              "</div>"
            ],
            "text/plain": [
              "        count           mean            std  ...       50%        75%         max\n",
              "State                                        ...                                 \n",
              "AK      175.0  265658.182857  107776.489679  ...  252089.0  337844.50    768634.0\n",
              "AL     1648.0  157894.945388  101539.339347  ...  134859.0  198133.25    953760.0\n",
              "AR     1343.0  139403.448995   86881.817803  ...  116459.0  173188.50    740045.0\n",
              "AZ      743.0  266705.366083  202106.978897  ...  222764.0  317603.50   2475441.0\n",
              "CA     4852.0  628950.929101  665780.679396  ...  431668.0  711211.50   9737475.0\n",
              "CO     1739.0  403698.213341  451766.138193  ...  335839.0  470045.50  10521270.0\n",
              "CT      902.0  305041.436807  214881.412306  ...  255571.0  352395.00   2895658.0\n",
              "DC        5.0  823483.400000  409260.293708  ...  690459.0  923791.00   1480031.0\n",
              "DE      273.0  311423.113553  273613.226459  ...  242649.0  320301.00   2079307.0\n",
              "FL     3071.0  378148.558124  626733.866373  ...  238953.0  374611.50  10694026.0\n",
              "GA     2520.0  189398.824206  162091.285324  ...  158822.0  231353.00   2674931.0\n",
              "HI      317.0  662374.930599  452092.353227  ...  609524.0  789822.00   5660156.0\n",
              "IA     3984.0  129595.713855   82504.755006  ...  114103.0  163762.25   1403008.0\n",
              "ID     1051.0  273937.604186  193220.170195  ...  238482.0  322553.00   3038967.0\n",
              "IL     4531.0  160219.126904  129764.270212  ...  124634.0  196815.50   1712233.0\n",
              "IN     3087.0  148681.721088   86891.803034  ...  132982.0  182902.50   1020372.0\n",
              "KS     1967.0  128668.355872   97920.027500  ...  106163.0  162361.00   1449956.0\n",
              "KY     2504.0  120012.529952   83297.289853  ...   96542.5  151045.25    622216.0\n",
              "LA     1201.0  163790.875937   93185.843528  ...  140122.0  204092.00    808398.0\n",
              "MA     1806.0  439363.728128  302142.816460  ...  358189.0  531812.50   3353677.0\n",
              "MD     1722.0  335504.307201  200528.707651  ...  298737.0  404363.75   1846421.0\n",
              "ME     1692.0  208697.089835  131111.846998  ...  175968.0  251224.75   1900794.0\n",
              "MI     3743.0  178017.928133  117908.080489  ...  151229.0  216880.00   1489356.0\n",
              "MN     3525.0  209783.073191  137535.537146  ...  185214.0  261513.00   1992774.0\n",
              "MO     3494.0  159046.557813  123595.783205  ...  133100.0  184810.25   2154383.0\n",
              "MS     1137.0  145255.980651  242425.896176  ...  117472.0  173669.00   7896711.0\n",
              "MT      955.0  283256.915183  158934.892947  ...  253222.0  337851.50   2628671.0\n",
              "NC     3198.0  207424.436836  153265.923935  ...  173918.5  262280.25   1860350.0\n",
              "ND      453.0  173715.161148   86014.957466  ...  161330.0  227533.00    532103.0\n",
              "NE     1535.0  150727.763518   88414.586126  ...  134181.0  192568.50   1065832.0\n",
              "NH     1178.0  295405.873514  174193.217034  ...  260361.0  354417.00   1871775.0\n",
              "NJ     2356.0  407136.872666  288693.663601  ...  344905.0  498497.00   2935348.0\n",
              "NM      533.0  204329.360225  119222.525963  ...  177094.0  247732.00    894958.0\n",
              "NV      275.0  321409.898182  318942.285482  ...  254279.0  378868.50   3002820.0\n",
              "NY     5354.0  258973.854501  317176.295411  ...  161030.0  272888.75   7376113.0\n",
              "OH     4931.0  151494.937132  102780.528741  ...  129950.0  182517.00   1562144.0\n",
              "OK     2102.0  111671.515224   86182.711686  ...   91122.0  144362.00   1451965.0\n",
              "OR     1555.0  320155.737621  142390.158311  ...  299177.0  403396.00    969380.0\n",
              "PA     7008.0  179468.000000  115427.773154  ...  155269.5  220370.75   1897107.0\n",
              "RI      211.0  388083.819905  254205.346632  ...  323587.0  421070.50   1726682.0\n",
              "SC     1351.0  199877.413027  217825.853094  ...  148797.0  235563.50   2607029.0\n",
              "SD      574.0  180991.815331   87637.620319  ...  169853.0  234262.25    497906.0\n",
              "TN     2075.0  186548.666506  131267.797238  ...  154987.0  234840.00   1532817.0\n",
              "TX     4825.0  221665.368083  175030.659554  ...  180062.0  267692.00   3338751.0\n",
              "UT      883.0  338140.073613  169554.087325  ...  310442.0  403650.50   2059064.0\n",
              "VA     2871.0  241939.755834  181178.371847  ...  190425.0  306405.00   2056199.0\n",
              "VT     1010.0  238380.122772  104538.759495  ...  211455.5  281482.50    876418.0\n",
              "WA     2043.0  383782.387176  384459.787032  ...  318329.0  442539.50   9215758.0\n",
              "WI     3351.0  213146.706655  130312.248747  ...  182438.0  260274.00   2052777.0\n",
              "WV     2051.0   96903.064846   63472.604410  ...   81561.0  116850.50    671924.0\n",
              "WY      581.0  296590.196213  337233.699156  ...  246854.0  325705.00   4754942.0\n",
              "\n",
              "[51 rows x 8 columns]"
            ]
          },
          "metadata": {
            "tags": []
          },
          "execution_count": 13
        }
      ]
    },
    {
      "cell_type": "code",
      "metadata": {
        "id": "jjODlAlA84_F",
        "colab": {
          "base_uri": "https://localhost:8080/"
        },
        "outputId": "0a65e251-f397-4273-ee40-ca9926050f27"
      },
      "source": [
        "zi_total.isna().any()"
      ],
      "execution_count": null,
      "outputs": [
        {
          "output_type": "execute_result",
          "data": {
            "text/plain": [
              "SizeRank      False\n",
              "RegionName    False\n",
              "State         False\n",
              "Metro          True\n",
              "CountyName    False\n",
              "Price         False\n",
              "Rooms         False\n",
              "dtype: bool"
            ]
          },
          "metadata": {
            "tags": []
          },
          "execution_count": 14
        }
      ]
    },
    {
      "cell_type": "code",
      "metadata": {
        "id": "DkiydhBX88yp",
        "colab": {
          "base_uri": "https://localhost:8080/",
          "height": 1000
        },
        "outputId": "4cd4ec89-4824-4281-e5f0-e4d6278546dd"
      },
      "source": [
        "import matplotlib.pyplot as plt\n",
        "zi_total.Price.hist(by=zi_total.State, figsize=(20,20))\n",
        "plt.plot()"
      ],
      "execution_count": null,
      "outputs": [
        {
          "output_type": "execute_result",
          "data": {
            "text/plain": [
              "[]"
            ]
          },
          "metadata": {
            "tags": []
          },
          "execution_count": 15
        },
        {
          "output_type": "display_data",
          "data": {
            "image/png": "[encoded data removed]",
            "text/plain": [
              "<Figure size 1440x1440 with 56 Axes>"
            ]
          },
          "metadata": {
            "tags": [],
            "needs_background": "light"
          }
        }
      ]
    },
    {
      "cell_type": "markdown",
      "metadata": {
        "id": "RbMhDiNZ9MSo"
      },
      "source": [
        "# Alistamiento de datos para ML\n",
        "\n",
        "Transformación de variables categoricas a numericas y estandarización de variables numericas.\n",
        "\n",
        "Para la variable Metro se convirtió mediante el número de guiones que tuviera, los cuales separaban el número de áreas metropolitanas del cual estaba rodeada el área de la casa. \n",
        "\n",
        "Variables Categoricas Transformadas:\n",
        "\n",
        "\n",
        "*   State\n",
        "*   Metro\n",
        "\n",
        "Variables Numéricas Estandarizadas:\n",
        "\n",
        "\n",
        "*   Precio\n",
        "\n",
        "Variables sin transformar\n",
        "\n",
        "\n",
        "\n",
        "*   Rooms\n",
        "\n",
        "\n",
        "\n",
        "\n",
        "\n"
      ]
    },
    {
      "cell_type": "code",
      "metadata": {
        "id": "6jC8hmko8_UC"
      },
      "source": [
        "from sklearn.compose import ColumnTransformer\n",
        "from sklearn.preprocessing import StandardScaler\n",
        "from sklearn.preprocessing import OrdinalEncoder\n",
        "state_attribs = [\"State\"]\n",
        "price_attribs = [\"Price\"]\n",
        "\n",
        "full_pipeline = ColumnTransformer([\n",
        "  (\"stat\", OrdinalEncoder(), state_attribs),\n",
        "  (\"price\", StandardScaler(), price_attribs),\n",
        "  ])\n",
        "zi_total_prepared = full_pipeline.fit_transform(zi_total)"
      ],
      "execution_count": null,
      "outputs": []
    },
    {
      "cell_type": "code",
      "metadata": {
        "id": "4_oIda8zAMmh"
      },
      "source": [
        "def countGuiones(x):\n",
        "  try:\n",
        "    if len(x.split('-')) > 3:\n",
        "      x = 4\n",
        "    else:\n",
        "      x = len(x.split('-'))\n",
        "    return x\n",
        "  except:\n",
        "    return 0\n",
        "\n",
        "zi_total['Metro_num'] = zi_total['Metro'].apply(lambda x: countGuiones(x))"
      ],
      "execution_count": null,
      "outputs": []
    },
    {
      "cell_type": "code",
      "metadata": {
        "id": "xtnSM5JEAV4u"
      },
      "source": [
        "rooms = zi_total.Rooms.to_numpy()\n",
        "metro = zi_total.Metro_num.to_numpy()"
      ],
      "execution_count": null,
      "outputs": []
    },
    {
      "cell_type": "code",
      "metadata": {
        "id": "dZ5EDZzMAcPg"
      },
      "source": [
        "rooms = rooms.reshape((len(rooms),1))\n",
        "metro = metro.reshape((len(rooms),1))"
      ],
      "execution_count": null,
      "outputs": []
    },
    {
      "cell_type": "code",
      "metadata": {
        "id": "VdC2KpN5AgXZ"
      },
      "source": [
        "import numpy as np\n",
        "zi_total_prepared = np.hstack([zi_total_prepared,rooms,metro])"
      ],
      "execution_count": null,
      "outputs": []
    },
    {
      "cell_type": "code",
      "metadata": {
        "id": "ayXw8IhBAp1P",
        "colab": {
          "base_uri": "https://localhost:8080/",
          "height": 419
        },
        "outputId": "08bbbc25-99a9-4eb7-c82d-ea3217d69033"
      },
      "source": [
        "zi_total_df = pd.DataFrame(data = zi_total_prepared, columns = [\"State\",\"Price\",\"Rooms\",\"Metro\"])\n",
        "zi_total_df"
      ],
      "execution_count": null,
      "outputs": [
        {
          "output_type": "execute_result",
          "data": {
            "text/html": [
              "<div>\n",
              "<style scoped>\n",
              "    .dataframe tbody tr th:only-of-type {\n",
              "        vertical-align: middle;\n",
              "    }\n",
              "\n",
              "    .dataframe tbody tr th {\n",
              "        vertical-align: top;\n",
              "    }\n",
              "\n",
              "    .dataframe thead th {\n",
              "        text-align: right;\n",
              "    }\n",
              "</style>\n",
              "<table border=\"1\" class=\"dataframe\">\n",
              "  <thead>\n",
              "    <tr style=\"text-align: right;\">\n",
              "      <th></th>\n",
              "      <th>State</th>\n",
              "      <th>Price</th>\n",
              "      <th>Rooms</th>\n",
              "      <th>Metro</th>\n",
              "    </tr>\n",
              "  </thead>\n",
              "  <tbody>\n",
              "    <tr>\n",
              "      <th>0</th>\n",
              "      <td>34.0</td>\n",
              "      <td>1.297434</td>\n",
              "      <td>1.0</td>\n",
              "      <td>3.0</td>\n",
              "    </tr>\n",
              "    <tr>\n",
              "      <th>1</th>\n",
              "      <td>4.0</td>\n",
              "      <td>1.132624</td>\n",
              "      <td>1.0</td>\n",
              "      <td>3.0</td>\n",
              "    </tr>\n",
              "    <tr>\n",
              "      <th>2</th>\n",
              "      <td>43.0</td>\n",
              "      <td>-0.468088</td>\n",
              "      <td>1.0</td>\n",
              "      <td>3.0</td>\n",
              "    </tr>\n",
              "    <tr>\n",
              "      <th>3</th>\n",
              "      <td>14.0</td>\n",
              "      <td>0.013155</td>\n",
              "      <td>1.0</td>\n",
              "      <td>3.0</td>\n",
              "    </tr>\n",
              "    <tr>\n",
              "      <th>4</th>\n",
              "      <td>43.0</td>\n",
              "      <td>-0.511625</td>\n",
              "      <td>1.0</td>\n",
              "      <td>2.0</td>\n",
              "    </tr>\n",
              "    <tr>\n",
              "      <th>...</th>\n",
              "      <td>...</td>\n",
              "      <td>...</td>\n",
              "      <td>...</td>\n",
              "      <td>...</td>\n",
              "    </tr>\n",
              "    <tr>\n",
              "      <th>106286</th>\n",
              "      <td>28.0</td>\n",
              "      <td>0.601022</td>\n",
              "      <td>5.0</td>\n",
              "      <td>1.0</td>\n",
              "    </tr>\n",
              "    <tr>\n",
              "      <th>106287</th>\n",
              "      <td>35.0</td>\n",
              "      <td>-0.544992</td>\n",
              "      <td>5.0</td>\n",
              "      <td>1.0</td>\n",
              "    </tr>\n",
              "    <tr>\n",
              "      <th>106288</th>\n",
              "      <td>49.0</td>\n",
              "      <td>0.271183</td>\n",
              "      <td>5.0</td>\n",
              "      <td>3.0</td>\n",
              "    </tr>\n",
              "    <tr>\n",
              "      <th>106289</th>\n",
              "      <td>12.0</td>\n",
              "      <td>-0.417981</td>\n",
              "      <td>5.0</td>\n",
              "      <td>0.0</td>\n",
              "    </tr>\n",
              "    <tr>\n",
              "      <th>106290</th>\n",
              "      <td>34.0</td>\n",
              "      <td>-0.524543</td>\n",
              "      <td>5.0</td>\n",
              "      <td>2.0</td>\n",
              "    </tr>\n",
              "  </tbody>\n",
              "</table>\n",
              "<p>106291 rows × 4 columns</p>\n",
              "</div>"
            ],
            "text/plain": [
              "        State     Price  Rooms  Metro\n",
              "0        34.0  1.297434    1.0    3.0\n",
              "1         4.0  1.132624    1.0    3.0\n",
              "2        43.0 -0.468088    1.0    3.0\n",
              "3        14.0  0.013155    1.0    3.0\n",
              "4        43.0 -0.511625    1.0    2.0\n",
              "...       ...       ...    ...    ...\n",
              "106286   28.0  0.601022    5.0    1.0\n",
              "106287   35.0 -0.544992    5.0    1.0\n",
              "106288   49.0  0.271183    5.0    3.0\n",
              "106289   12.0 -0.417981    5.0    0.0\n",
              "106290   34.0 -0.524543    5.0    2.0\n",
              "\n",
              "[106291 rows x 4 columns]"
            ]
          },
          "metadata": {
            "tags": []
          },
          "execution_count": 21
        }
      ]
    },
    {
      "cell_type": "code",
      "metadata": {
        "id": "BGAZw_WQAybl",
        "colab": {
          "base_uri": "https://localhost:8080/",
          "height": 786
        },
        "outputId": "ee1d4c47-259b-4662-edac-666d2df87ed8"
      },
      "source": [
        "from pandas.plotting import scatter_matrix\n",
        "scatter_matrix(zi_total_df, figsize = (12,8))"
      ],
      "execution_count": null,
      "outputs": [
        {
          "output_type": "execute_result",
          "data": {
            "text/plain": [
              "array([[<matplotlib.axes._subplots.AxesSubplot object at 0x7fa17a9f40b8>,\n",
              "        <matplotlib.axes._subplots.AxesSubplot object at 0x7fa17a9a3278>,\n",
              "        <matplotlib.axes._subplots.AxesSubplot object at 0x7fa17a9584e0>,\n",
              "        <matplotlib.axes._subplots.AxesSubplot object at 0x7fa17a98b748>],\n",
              "       [<matplotlib.axes._subplots.AxesSubplot object at 0x7fa17a9409b0>,\n",
              "        <matplotlib.axes._subplots.AxesSubplot object at 0x7fa17a8f4c18>,\n",
              "        <matplotlib.axes._subplots.AxesSubplot object at 0x7fa17a8a8e80>,\n",
              "        <matplotlib.axes._subplots.AxesSubplot object at 0x7fa17a8660f0>],\n",
              "       [<matplotlib.axes._subplots.AxesSubplot object at 0x7fa17a866160>,\n",
              "        <matplotlib.axes._subplots.AxesSubplot object at 0x7fa17a84e5f8>,\n",
              "        <matplotlib.axes._subplots.AxesSubplot object at 0x7fa17a804860>,\n",
              "        <matplotlib.axes._subplots.AxesSubplot object at 0x7fa17a7b8ac8>],\n",
              "       [<matplotlib.axes._subplots.AxesSubplot object at 0x7fa17a76ad30>,\n",
              "        <matplotlib.axes._subplots.AxesSubplot object at 0x7fa17a71ff98>,\n",
              "        <matplotlib.axes._subplots.AxesSubplot object at 0x7fa17a9fbdd8>,\n",
              "        <matplotlib.axes._subplots.AxesSubplot object at 0x7fa17a86f710>]],\n",
              "      dtype=object)"
            ]
          },
          "metadata": {
            "tags": []
          },
          "execution_count": 22
        },
        {
          "output_type": "display_data",
          "data": {
            "image/png": "[encoded data removed]",
            "text/plain": [
              "<Figure size 864x576 with 16 Axes>"
            ]
          },
          "metadata": {
            "tags": [],
            "needs_background": "light"
          }
        }
      ]
    },
    {
      "cell_type": "markdown",
      "metadata": {
        "id": "tgJ8QKGnBLNg"
      },
      "source": [
        "# Aplicación Machine Learning\n",
        "\n",
        "Con el fin de poder establecer el número de clusters para el método de K-Means, se aplicó el método de Mean Shift. Posteriormente se aplicó K-Means para realizar el ejercicio."
      ]
    },
    {
      "cell_type": "code",
      "metadata": {
        "id": "lDGClg7qBIrN"
      },
      "source": [
        "from sklearn.cluster import MeanShift, estimate_bandwidth\n",
        "bandwidth = estimate_bandwidth(zi_total_prepared, quantile=0.2, n_samples=500)\n",
        "ms = MeanShift(bandwidth=bandwidth, bin_seeding=True)\n",
        "ms_fit = ms.fit(zi_total_prepared)"
      ],
      "execution_count": null,
      "outputs": []
    },
    {
      "cell_type": "code",
      "metadata": {
        "id": "y8A-lV2RCEyo"
      },
      "source": [
        "clusters = ms_fit.predict(zi_total_prepared)"
      ],
      "execution_count": null,
      "outputs": []
    },
    {
      "cell_type": "code",
      "metadata": {
        "id": "5ZRpFGKNCIz2",
        "colab": {
          "base_uri": "https://localhost:8080/"
        },
        "outputId": "f47a6a81-b66f-4bac-c95c-0c1ab3b4f734"
      },
      "source": [
        "clusters.max()"
      ],
      "execution_count": null,
      "outputs": [
        {
          "output_type": "execute_result",
          "data": {
            "text/plain": [
              "7"
            ]
          },
          "metadata": {
            "tags": []
          },
          "execution_count": 25
        }
      ]
    },
    {
      "cell_type": "code",
      "metadata": {
        "id": "jGgsdnLdCJji"
      },
      "source": [
        "from sklearn.cluster import KMeans\n",
        "kmeans = KMeans(n_clusters=8, random_state=42).fit(zi_total_prepared)\n",
        "mod_clus = kmeans.predict(zi_total_prepared)"
      ],
      "execution_count": null,
      "outputs": []
    },
    {
      "cell_type": "code",
      "metadata": {
        "id": "jdf-bXnlCO32",
        "colab": {
          "base_uri": "https://localhost:8080/",
          "height": 265
        },
        "outputId": "d47c1130-9bd6-43a7-b293-283813fbe976"
      },
      "source": [
        "plt.hist(mod_clus)\n",
        "plt.show()"
      ],
      "execution_count": null,
      "outputs": [
        {
          "output_type": "display_data",
          "data": {
            "image/png": "[encoded data removed]",
            "text/plain": [
              "<Figure size 432x288 with 1 Axes>"
            ]
          },
          "metadata": {
            "tags": [],
            "needs_background": "light"
          }
        }
      ]
    },
    {
      "cell_type": "markdown",
      "metadata": {
        "id": "91VBrY6yCjEu"
      },
      "source": [
        "# Visualización de datos\n",
        "\n",
        "Se hacen las gráficas para lograr entender el patrón dibujado por el método de K-Means."
      ]
    },
    {
      "cell_type": "code",
      "metadata": {
        "id": "gTlQWV4PCq-x",
        "colab": {
          "base_uri": "https://localhost:8080/",
          "height": 247
        },
        "outputId": "aea6c941-cc3b-4ec3-bb84-6d9edd26ef42"
      },
      "source": [
        "from mpl_toolkits.mplot3d import Axes3D\n",
        "\n",
        "fig = plt.figure(1, figsize=(4, 3))\n",
        "ax = Axes3D(fig, rect=[0, 0, .95, 1], elev=48, azim=134)\n",
        "ax.scatter(zi_total_prepared[:, 0], zi_total_prepared[:, 2], zi_total_prepared[:, 1],\n",
        "             c=mod_clus.astype(np.float), edgecolor='k')\n",
        "\n",
        "ax.w_xaxis.set_ticklabels([])\n",
        "ax.w_yaxis.set_ticklabels([])\n",
        "ax.w_zaxis.set_ticklabels([])\n",
        "ax.set_xlabel('State')\n",
        "ax.set_ylabel('Rooms')\n",
        "ax.set_zlabel('Price')\n",
        "ax.set_title(\"Plot\")\n",
        "ax.dist = 12"
      ],
      "execution_count": null,
      "outputs": [
        {
          "output_type": "display_data",
          "data": {
            "image/png": "[encoded data removed]",
            "text/plain": [
              "<Figure size 288x216 with 1 Axes>"
            ]
          },
          "metadata": {
            "tags": [],
            "needs_background": "light"
          }
        }
      ]
    },
    {
      "cell_type": "code",
      "metadata": {
        "id": "VBFcJiUxC-eB",
        "colab": {
          "base_uri": "https://localhost:8080/",
          "height": 247
        },
        "outputId": "089dae72-7202-4243-ac3e-9c7c38d99d15"
      },
      "source": [
        "fig = plt.figure(1, figsize=(4, 3))\n",
        "ax = Axes3D(fig, rect=[0, 0, .95, 1], elev=48, azim=134)\n",
        "ax.scatter(zi_total_prepared[:, 0], zi_total_prepared[:, 3], zi_total_prepared[:, 1],\n",
        "             c=mod_clus.astype(np.float), edgecolor='k')\n",
        "\n",
        "ax.w_xaxis.set_ticklabels([])\n",
        "ax.w_yaxis.set_ticklabels([])\n",
        "ax.w_zaxis.set_ticklabels([])\n",
        "ax.set_xlabel('State')\n",
        "ax.set_ylabel('Metro')\n",
        "ax.set_zlabel('Price')\n",
        "ax.set_title(\"Plot\")\n",
        "ax.dist = 12"
      ],
      "execution_count": null,
      "outputs": [
        {
          "output_type": "display_data",
          "data": {
            "image/png": "[encoded data removed]",
            "text/plain": [
              "<Figure size 288x216 with 1 Axes>"
            ]
          },
          "metadata": {
            "tags": [],
            "needs_background": "light"
          }
        }
      ]
    },
    {
      "cell_type": "code",
      "metadata": {
        "id": "teHrZBT5DC8t",
        "colab": {
          "base_uri": "https://localhost:8080/",
          "height": 247
        },
        "outputId": "24621bec-b263-48c4-d976-72e076e8e20e"
      },
      "source": [
        "fig = plt.figure(1, figsize=(4, 3))\n",
        "ax = Axes3D(fig, rect=[0, 0, .95, 1], elev=48, azim=134)\n",
        "ax.scatter(zi_total_prepared[:, 2], zi_total_prepared[:, 3], zi_total_prepared[:, 1],\n",
        "             c=mod_clus.astype(np.float), edgecolor='k')\n",
        "\n",
        "ax.w_xaxis.set_ticklabels([])\n",
        "ax.w_yaxis.set_ticklabels([])\n",
        "ax.w_zaxis.set_ticklabels([])\n",
        "ax.set_xlabel('Rooms')\n",
        "ax.set_ylabel('Metro')\n",
        "ax.set_zlabel('Price')\n",
        "ax.set_title(\"Plot\")\n",
        "ax.dist = 12"
      ],
      "execution_count": null,
      "outputs": [
        {
          "output_type": "display_data",
          "data": {
            "image/png": "[encoded data removed]",
            "text/plain": [
              "<Figure size 288x216 with 1 Axes>"
            ]
          },
          "metadata": {
            "tags": [],
            "needs_background": "light"
          }
        }
      ]
    },
    {
      "cell_type": "markdown",
      "metadata": {
        "id": "9_FYEtkVDkwR"
      },
      "source": [
        "#Análisis y Visualización de Clusters\n",
        "Se analizan los datos que se agruparon de acuerdo a K-Means."
      ]
    },
    {
      "cell_type": "code",
      "metadata": {
        "id": "xfqXouBiDPa2",
        "colab": {
          "base_uri": "https://localhost:8080/",
          "height": 419
        },
        "outputId": "d46891b2-df89-4264-e242-8ec3b13017a7"
      },
      "source": [
        "zi_total_df[\"Cluster\"] = mod_clus\n",
        "zi_total_df"
      ],
      "execution_count": null,
      "outputs": [
        {
          "output_type": "execute_result",
          "data": {
            "text/html": [
              "<div>\n",
              "<style scoped>\n",
              "    .dataframe tbody tr th:only-of-type {\n",
              "        vertical-align: middle;\n",
              "    }\n",
              "\n",
              "    .dataframe tbody tr th {\n",
              "        vertical-align: top;\n",
              "    }\n",
              "\n",
              "    .dataframe thead th {\n",
              "        text-align: right;\n",
              "    }\n",
              "</style>\n",
              "<table border=\"1\" class=\"dataframe\">\n",
              "  <thead>\n",
              "    <tr style=\"text-align: right;\">\n",
              "      <th></th>\n",
              "      <th>State</th>\n",
              "      <th>Price</th>\n",
              "      <th>Rooms</th>\n",
              "      <th>Metro</th>\n",
              "      <th>Cluster</th>\n",
              "    </tr>\n",
              "  </thead>\n",
              "  <tbody>\n",
              "    <tr>\n",
              "      <th>0</th>\n",
              "      <td>34.0</td>\n",
              "      <td>1.297434</td>\n",
              "      <td>1.0</td>\n",
              "      <td>3.0</td>\n",
              "      <td>5</td>\n",
              "    </tr>\n",
              "    <tr>\n",
              "      <th>1</th>\n",
              "      <td>4.0</td>\n",
              "      <td>1.132624</td>\n",
              "      <td>1.0</td>\n",
              "      <td>3.0</td>\n",
              "      <td>2</td>\n",
              "    </tr>\n",
              "    <tr>\n",
              "      <th>2</th>\n",
              "      <td>43.0</td>\n",
              "      <td>-0.468088</td>\n",
              "      <td>1.0</td>\n",
              "      <td>3.0</td>\n",
              "      <td>1</td>\n",
              "    </tr>\n",
              "    <tr>\n",
              "      <th>3</th>\n",
              "      <td>14.0</td>\n",
              "      <td>0.013155</td>\n",
              "      <td>1.0</td>\n",
              "      <td>3.0</td>\n",
              "      <td>0</td>\n",
              "    </tr>\n",
              "    <tr>\n",
              "      <th>4</th>\n",
              "      <td>43.0</td>\n",
              "      <td>-0.511625</td>\n",
              "      <td>1.0</td>\n",
              "      <td>2.0</td>\n",
              "      <td>1</td>\n",
              "    </tr>\n",
              "    <tr>\n",
              "      <th>...</th>\n",
              "      <td>...</td>\n",
              "      <td>...</td>\n",
              "      <td>...</td>\n",
              "      <td>...</td>\n",
              "      <td>...</td>\n",
              "    </tr>\n",
              "    <tr>\n",
              "      <th>106286</th>\n",
              "      <td>28.0</td>\n",
              "      <td>0.601022</td>\n",
              "      <td>5.0</td>\n",
              "      <td>1.0</td>\n",
              "      <td>3</td>\n",
              "    </tr>\n",
              "    <tr>\n",
              "      <th>106287</th>\n",
              "      <td>35.0</td>\n",
              "      <td>-0.544992</td>\n",
              "      <td>5.0</td>\n",
              "      <td>1.0</td>\n",
              "      <td>5</td>\n",
              "    </tr>\n",
              "    <tr>\n",
              "      <th>106288</th>\n",
              "      <td>49.0</td>\n",
              "      <td>0.271183</td>\n",
              "      <td>5.0</td>\n",
              "      <td>3.0</td>\n",
              "      <td>7</td>\n",
              "    </tr>\n",
              "    <tr>\n",
              "      <th>106289</th>\n",
              "      <td>12.0</td>\n",
              "      <td>-0.417981</td>\n",
              "      <td>5.0</td>\n",
              "      <td>0.0</td>\n",
              "      <td>6</td>\n",
              "    </tr>\n",
              "    <tr>\n",
              "      <th>106290</th>\n",
              "      <td>34.0</td>\n",
              "      <td>-0.524543</td>\n",
              "      <td>5.0</td>\n",
              "      <td>2.0</td>\n",
              "      <td>5</td>\n",
              "    </tr>\n",
              "  </tbody>\n",
              "</table>\n",
              "<p>106291 rows × 5 columns</p>\n",
              "</div>"
            ],
            "text/plain": [
              "        State     Price  Rooms  Metro  Cluster\n",
              "0        34.0  1.297434    1.0    3.0        5\n",
              "1         4.0  1.132624    1.0    3.0        2\n",
              "2        43.0 -0.468088    1.0    3.0        1\n",
              "3        14.0  0.013155    1.0    3.0        0\n",
              "4        43.0 -0.511625    1.0    2.0        1\n",
              "...       ...       ...    ...    ...      ...\n",
              "106286   28.0  0.601022    5.0    1.0        3\n",
              "106287   35.0 -0.544992    5.0    1.0        5\n",
              "106288   49.0  0.271183    5.0    3.0        7\n",
              "106289   12.0 -0.417981    5.0    0.0        6\n",
              "106290   34.0 -0.524543    5.0    2.0        5\n",
              "\n",
              "[106291 rows x 5 columns]"
            ]
          },
          "metadata": {
            "tags": []
          },
          "execution_count": 31
        }
      ]
    },
    {
      "cell_type": "code",
      "metadata": {
        "id": "LGohVJBXDjZr",
        "colab": {
          "base_uri": "https://localhost:8080/",
          "height": 419
        },
        "outputId": "70936d2e-02ba-4021-beb9-3e4240304d16"
      },
      "source": [
        "zi_zero = zi_total_df[zi_total_df[\"Cluster\"]==0]\n",
        "zi_zero"
      ],
      "execution_count": null,
      "outputs": [
        {
          "output_type": "execute_result",
          "data": {
            "text/html": [
              "<div>\n",
              "<style scoped>\n",
              "    .dataframe tbody tr th:only-of-type {\n",
              "        vertical-align: middle;\n",
              "    }\n",
              "\n",
              "    .dataframe tbody tr th {\n",
              "        vertical-align: top;\n",
              "    }\n",
              "\n",
              "    .dataframe thead th {\n",
              "        text-align: right;\n",
              "    }\n",
              "</style>\n",
              "<table border=\"1\" class=\"dataframe\">\n",
              "  <thead>\n",
              "    <tr style=\"text-align: right;\">\n",
              "      <th></th>\n",
              "      <th>State</th>\n",
              "      <th>Price</th>\n",
              "      <th>Rooms</th>\n",
              "      <th>Metro</th>\n",
              "      <th>Cluster</th>\n",
              "    </tr>\n",
              "  </thead>\n",
              "  <tbody>\n",
              "    <tr>\n",
              "      <th>3</th>\n",
              "      <td>14.0</td>\n",
              "      <td>0.013155</td>\n",
              "      <td>1.0</td>\n",
              "      <td>3.0</td>\n",
              "      <td>0</td>\n",
              "    </tr>\n",
              "    <tr>\n",
              "      <th>13</th>\n",
              "      <td>15.0</td>\n",
              "      <td>-0.562893</td>\n",
              "      <td>1.0</td>\n",
              "      <td>3.0</td>\n",
              "      <td>0</td>\n",
              "    </tr>\n",
              "    <tr>\n",
              "      <th>19</th>\n",
              "      <td>17.0</td>\n",
              "      <td>-0.445668</td>\n",
              "      <td>1.0</td>\n",
              "      <td>1.0</td>\n",
              "      <td>0</td>\n",
              "    </tr>\n",
              "    <tr>\n",
              "      <th>26</th>\n",
              "      <td>19.0</td>\n",
              "      <td>1.246569</td>\n",
              "      <td>1.0</td>\n",
              "      <td>3.0</td>\n",
              "      <td>0</td>\n",
              "    </tr>\n",
              "    <tr>\n",
              "      <th>50</th>\n",
              "      <td>18.0</td>\n",
              "      <td>0.059539</td>\n",
              "      <td>1.0</td>\n",
              "      <td>2.0</td>\n",
              "      <td>0</td>\n",
              "    </tr>\n",
              "    <tr>\n",
              "      <th>...</th>\n",
              "      <td>...</td>\n",
              "      <td>...</td>\n",
              "      <td>...</td>\n",
              "      <td>...</td>\n",
              "      <td>...</td>\n",
              "    </tr>\n",
              "    <tr>\n",
              "      <th>106258</th>\n",
              "      <td>15.0</td>\n",
              "      <td>-0.464293</td>\n",
              "      <td>5.0</td>\n",
              "      <td>1.0</td>\n",
              "      <td>0</td>\n",
              "    </tr>\n",
              "    <tr>\n",
              "      <th>106267</th>\n",
              "      <td>14.0</td>\n",
              "      <td>-0.076189</td>\n",
              "      <td>5.0</td>\n",
              "      <td>1.0</td>\n",
              "      <td>0</td>\n",
              "    </tr>\n",
              "    <tr>\n",
              "      <th>106273</th>\n",
              "      <td>15.0</td>\n",
              "      <td>-0.464401</td>\n",
              "      <td>5.0</td>\n",
              "      <td>3.0</td>\n",
              "      <td>0</td>\n",
              "    </tr>\n",
              "    <tr>\n",
              "      <th>106274</th>\n",
              "      <td>14.0</td>\n",
              "      <td>-0.381333</td>\n",
              "      <td>5.0</td>\n",
              "      <td>1.0</td>\n",
              "      <td>0</td>\n",
              "    </tr>\n",
              "    <tr>\n",
              "      <th>106280</th>\n",
              "      <td>16.0</td>\n",
              "      <td>-0.103728</td>\n",
              "      <td>5.0</td>\n",
              "      <td>0.0</td>\n",
              "      <td>0</td>\n",
              "    </tr>\n",
              "  </tbody>\n",
              "</table>\n",
              "<p>15096 rows × 5 columns</p>\n",
              "</div>"
            ],
            "text/plain": [
              "        State     Price  Rooms  Metro  Cluster\n",
              "3        14.0  0.013155    1.0    3.0        0\n",
              "13       15.0 -0.562893    1.0    3.0        0\n",
              "19       17.0 -0.445668    1.0    1.0        0\n",
              "26       19.0  1.246569    1.0    3.0        0\n",
              "50       18.0  0.059539    1.0    2.0        0\n",
              "...       ...       ...    ...    ...      ...\n",
              "106258   15.0 -0.464293    5.0    1.0        0\n",
              "106267   14.0 -0.076189    5.0    1.0        0\n",
              "106273   15.0 -0.464401    5.0    3.0        0\n",
              "106274   14.0 -0.381333    5.0    1.0        0\n",
              "106280   16.0 -0.103728    5.0    0.0        0\n",
              "\n",
              "[15096 rows x 5 columns]"
            ]
          },
          "metadata": {
            "tags": []
          },
          "execution_count": 32
        }
      ]
    },
    {
      "cell_type": "code",
      "metadata": {
        "id": "X2lZTAe-EFm8"
      },
      "source": [
        "zi_one = zi_total_df[zi_total_df[\"Cluster\"]==1]\n",
        "zi_two = zi_total_df[zi_total_df[\"Cluster\"]==2]\n",
        "zi_three = zi_total_df[zi_total_df[\"Cluster\"]==3]\n",
        "zi_four = zi_total_df[zi_total_df[\"Cluster\"]==4]\n",
        "zi_five = zi_total_df[zi_total_df[\"Cluster\"]==5]\n",
        "zi_six = zi_total_df[zi_total_df[\"Cluster\"]==6]\n",
        "zi_seven = zi_total_df[zi_total_df[\"Cluster\"]==7]"
      ],
      "execution_count": null,
      "outputs": []
    },
    {
      "cell_type": "code",
      "metadata": {
        "id": "07XN7zVVEMMs",
        "colab": {
          "base_uri": "https://localhost:8080/"
        },
        "outputId": "c63326e3-8b78-40a5-b4e6-cde24c1677c3"
      },
      "source": [
        "zi_zero[\"Price\"].describe()"
      ],
      "execution_count": null,
      "outputs": [
        {
          "output_type": "execute_result",
          "data": {
            "text/plain": [
              "count    15096.000000\n",
              "mean        -0.200901\n",
              "std          0.623601\n",
              "min         -0.811369\n",
              "25%         -0.550114\n",
              "50%         -0.374334\n",
              "75%         -0.077887\n",
              "max         11.236197\n",
              "Name: Price, dtype: float64"
            ]
          },
          "metadata": {
            "tags": []
          },
          "execution_count": 34
        }
      ]
    },
    {
      "cell_type": "code",
      "metadata": {
        "id": "M5xXtXnSEi2s",
        "colab": {
          "base_uri": "https://localhost:8080/"
        },
        "outputId": "21fddfbe-2b21-484c-89a5-7bd80ebbba7b"
      },
      "source": [
        "zi_one[\"Price\"].describe()"
      ],
      "execution_count": null,
      "outputs": [
        {
          "output_type": "execute_result",
          "data": {
            "text/plain": [
              "count    12579.000000\n",
              "mean        -0.043304\n",
              "std          0.633708\n",
              "min         -0.784821\n",
              "25%         -0.427198\n",
              "50%         -0.196799\n",
              "75%          0.153438\n",
              "max         11.182394\n",
              "Name: Price, dtype: float64"
            ]
          },
          "metadata": {
            "tags": []
          },
          "execution_count": 35
        }
      ]
    },
    {
      "cell_type": "code",
      "metadata": {
        "id": "8eke6QHOEjGn",
        "colab": {
          "base_uri": "https://localhost:8080/"
        },
        "outputId": "71967953-53e2-46c5-c782-9d9a992fb63f"
      },
      "source": [
        "zi_two[\"Price\"].describe()"
      ],
      "execution_count": null,
      "outputs": [
        {
          "output_type": "execute_result",
          "data": {
            "text/plain": [
              "count    11416.000000\n",
              "mean         0.662244\n",
              "std          2.027956\n",
              "min         -0.786875\n",
              "25%         -0.284546\n",
              "50%          0.144942\n",
              "75%          0.833353\n",
              "max         37.695212\n",
              "Name: Price, dtype: float64"
            ]
          },
          "metadata": {
            "tags": []
          },
          "execution_count": 36
        }
      ]
    },
    {
      "cell_type": "code",
      "metadata": {
        "id": "-0wSaPLsEjQt",
        "colab": {
          "base_uri": "https://localhost:8080/"
        },
        "outputId": "045b5e74-d8ab-4186-8a05-32d15a0d2ef7"
      },
      "source": [
        "zi_three[\"Price\"].describe()"
      ],
      "execution_count": null,
      "outputs": [
        {
          "output_type": "execute_result",
          "data": {
            "text/plain": [
              "count    10209.000000\n",
              "mean         0.089526\n",
              "std          0.795824\n",
              "min         -0.803817\n",
              "25%         -0.368097\n",
              "50%         -0.093433\n",
              "75%          0.317581\n",
              "max         27.612013\n",
              "Name: Price, dtype: float64"
            ]
          },
          "metadata": {
            "tags": []
          },
          "execution_count": 37
        }
      ]
    },
    {
      "cell_type": "code",
      "metadata": {
        "id": "2jSS4kKpEjav",
        "colab": {
          "base_uri": "https://localhost:8080/"
        },
        "outputId": "66da7320-6cb8-4848-95fc-c1d401ee8c5f"
      },
      "source": [
        "zi_four[\"Price\"].describe()"
      ],
      "execution_count": null,
      "outputs": [
        {
          "output_type": "execute_result",
          "data": {
            "text/plain": [
              "count    15312.000000\n",
              "mean        -0.134551\n",
              "std          0.521914\n",
              "min         -0.800245\n",
              "25%         -0.460000\n",
              "50%         -0.264073\n",
              "75%          0.037255\n",
              "max          6.913222\n",
              "Name: Price, dtype: float64"
            ]
          },
          "metadata": {
            "tags": []
          },
          "execution_count": 38
        }
      ]
    },
    {
      "cell_type": "code",
      "metadata": {
        "id": "ji07Dse6Eq41",
        "colab": {
          "base_uri": "https://localhost:8080/"
        },
        "outputId": "7db4608e-749b-459e-be06-ed86ff0eaedd"
      },
      "source": [
        "zi_five[\"Price\"].describe()"
      ],
      "execution_count": null,
      "outputs": [
        {
          "output_type": "execute_result",
          "data": {
            "text/plain": [
              "count    21436.000000\n",
              "mean        -0.130380\n",
              "std          0.720352\n",
              "min         -0.810583\n",
              "25%         -0.489928\n",
              "50%         -0.304993\n",
              "75%         -0.005915\n",
              "max         25.735466\n",
              "Name: Price, dtype: float64"
            ]
          },
          "metadata": {
            "tags": []
          },
          "execution_count": 39
        }
      ]
    },
    {
      "cell_type": "code",
      "metadata": {
        "id": "pY3KJQa9Eumh",
        "colab": {
          "base_uri": "https://localhost:8080/"
        },
        "outputId": "e840e0c4-92d4-43b6-93bb-8cbe3a6e0af1"
      },
      "source": [
        "zi_six[\"Price\"].describe()"
      ],
      "execution_count": null,
      "outputs": [
        {
          "output_type": "execute_result",
          "data": {
            "text/plain": [
              "count    11207.000000\n",
              "mean         0.004912\n",
              "std          1.093029\n",
              "min         -0.800389\n",
              "25%         -0.477851\n",
              "50%         -0.247930\n",
              "75%          0.104719\n",
              "max         19.550129\n",
              "Name: Price, dtype: float64"
            ]
          },
          "metadata": {
            "tags": []
          },
          "execution_count": 40
        }
      ]
    },
    {
      "cell_type": "code",
      "metadata": {
        "id": "M7_Nb3XHEwg1",
        "colab": {
          "base_uri": "https://localhost:8080/"
        },
        "outputId": "d54db6cd-c695-4146-d1e4-a4fb2866fd57"
      },
      "source": [
        "zi_seven[\"Price\"].describe()"
      ],
      "execution_count": null,
      "outputs": [
        {
          "output_type": "execute_result",
          "data": {
            "text/plain": [
              "count    9036.000000\n",
              "mean       -0.010692\n",
              "std         0.874758\n",
              "min        -0.800638\n",
              "25%        -0.429558\n",
              "50%        -0.173409\n",
              "75%         0.195623\n",
              "max        32.366648\n",
              "Name: Price, dtype: float64"
            ]
          },
          "metadata": {
            "tags": []
          },
          "execution_count": 41
        }
      ]
    },
    {
      "cell_type": "code",
      "metadata": {
        "id": "uXgSsW6hY3Y0"
      },
      "source": [
        "zi_state = zi_total[['State']]\n",
        "ordinal_encoder = OrdinalEncoder()\n",
        "zi_state_encoded = ordinal_encoder.fit_transform(zi_state)"
      ],
      "execution_count": null,
      "outputs": []
    },
    {
      "cell_type": "code",
      "metadata": {
        "id": "cFQ4zpD3Y5yv"
      },
      "source": [
        "array_stat = ordinal_encoder.inverse_transform(zi_total_df[\"State\"].to_numpy().reshape(len(zi_total_df[\"State\"]),1))"
      ],
      "execution_count": null,
      "outputs": []
    },
    {
      "cell_type": "code",
      "metadata": {
        "id": "WSf2TWMCZUrP",
        "colab": {
          "base_uri": "https://localhost:8080/"
        },
        "outputId": "bbaefa6e-cb5e-4e13-ff26-5cd55e5f007e"
      },
      "source": [
        "array_stat"
      ],
      "execution_count": null,
      "outputs": [
        {
          "output_type": "execute_result",
          "data": {
            "text/plain": [
              "array([['NY'],\n",
              "       ['CA'],\n",
              "       ['TX'],\n",
              "       ...,\n",
              "       ['WV'],\n",
              "       ['IA'],\n",
              "       ['NY']], dtype=object)"
            ]
          },
          "metadata": {
            "tags": []
          },
          "execution_count": 44
        }
      ]
    },
    {
      "cell_type": "code",
      "metadata": {
        "id": "Tw2u3RxZZs89"
      },
      "source": [
        "stat_np = np.hstack([array_stat,zi_total_df[\"Cluster\"].to_numpy().reshape(len(zi_total_df[\"State\"]),1)])"
      ],
      "execution_count": null,
      "outputs": []
    },
    {
      "cell_type": "code",
      "metadata": {
        "id": "igM0C9H-iLvN",
        "colab": {
          "base_uri": "https://localhost:8080/"
        },
        "outputId": "b973b747-aa3b-4722-daab-a38e8ba3e855"
      },
      "source": [
        "stat_np"
      ],
      "execution_count": null,
      "outputs": [
        {
          "output_type": "execute_result",
          "data": {
            "text/plain": [
              "array([['NY', 5],\n",
              "       ['CA', 2],\n",
              "       ['TX', 1],\n",
              "       ...,\n",
              "       ['WV', 7],\n",
              "       ['IA', 6],\n",
              "       ['NY', 5]], dtype=object)"
            ]
          },
          "metadata": {
            "tags": []
          },
          "execution_count": 46
        }
      ]
    },
    {
      "cell_type": "code",
      "metadata": {
        "id": "r-0DZQ-WrmIm"
      },
      "source": [
        "state_df = pd.DataFrame(data = stat_np, columns = [\"State\",\"Cluster\"])"
      ],
      "execution_count": null,
      "outputs": []
    },
    {
      "cell_type": "code",
      "metadata": {
        "id": "vvKgM97ktTVe",
        "colab": {
          "base_uri": "https://localhost:8080/",
          "height": 204
        },
        "outputId": "942b1cc2-4328-466b-a8c0-e3827fab5b5b"
      },
      "source": [
        "uniq_df = state_df.drop_duplicates(subset=['State'])\n",
        "uniq_df.head()"
      ],
      "execution_count": null,
      "outputs": [
        {
          "output_type": "execute_result",
          "data": {
            "text/html": [
              "<div>\n",
              "<style scoped>\n",
              "    .dataframe tbody tr th:only-of-type {\n",
              "        vertical-align: middle;\n",
              "    }\n",
              "\n",
              "    .dataframe tbody tr th {\n",
              "        vertical-align: top;\n",
              "    }\n",
              "\n",
              "    .dataframe thead th {\n",
              "        text-align: right;\n",
              "    }\n",
              "</style>\n",
              "<table border=\"1\" class=\"dataframe\">\n",
              "  <thead>\n",
              "    <tr style=\"text-align: right;\">\n",
              "      <th></th>\n",
              "      <th>State</th>\n",
              "      <th>Cluster</th>\n",
              "    </tr>\n",
              "  </thead>\n",
              "  <tbody>\n",
              "    <tr>\n",
              "      <th>0</th>\n",
              "      <td>NY</td>\n",
              "      <td>5</td>\n",
              "    </tr>\n",
              "    <tr>\n",
              "      <th>1</th>\n",
              "      <td>CA</td>\n",
              "      <td>2</td>\n",
              "    </tr>\n",
              "    <tr>\n",
              "      <th>2</th>\n",
              "      <td>TX</td>\n",
              "      <td>1</td>\n",
              "    </tr>\n",
              "    <tr>\n",
              "      <th>3</th>\n",
              "      <td>IL</td>\n",
              "      <td>0</td>\n",
              "    </tr>\n",
              "    <tr>\n",
              "      <th>5</th>\n",
              "      <td>PA</td>\n",
              "      <td>5</td>\n",
              "    </tr>\n",
              "  </tbody>\n",
              "</table>\n",
              "</div>"
            ],
            "text/plain": [
              "  State Cluster\n",
              "0    NY       5\n",
              "1    CA       2\n",
              "2    TX       1\n",
              "3    IL       0\n",
              "5    PA       5"
            ]
          },
          "metadata": {
            "tags": []
          },
          "execution_count": 48
        }
      ]
    },
    {
      "cell_type": "code",
      "metadata": {
        "id": "Cnt-wdmYuLvC"
      },
      "source": [
        "uniq_np = uniq_df.to_numpy()"
      ],
      "execution_count": null,
      "outputs": []
    },
    {
      "cell_type": "code",
      "metadata": {
        "id": "AQj5JXBTt2EY",
        "colab": {
          "base_uri": "https://localhost:8080/",
          "height": 542
        },
        "outputId": "a8754490-d516-4119-a56b-735d9183ac01"
      },
      "source": [
        "import plotly.express as px\n",
        "fig = px.choropleth(locations= uniq_np[:,0], locationmode=\"USA-states\", color = uniq_np[:,1], scope = \"usa\")\n",
        "fig.show()"
      ],
      "execution_count": null,
      "outputs": [
        {
          "output_type": "display_data",
          "data": {
            "text/html": [
              "<html>\n",
              "<head><meta charset=\"utf-8\" /></head>\n",
              "<body>\n",
              "    <div>\n",
              "            <script src=\"https://cdnjs.cloudflare.com/ajax/libs/mathjax/2.7.5/MathJax.js?config=TeX-AMS-MML_SVG\"></script><script type=\"text/javascript\">if (window.MathJax) {MathJax.Hub.Config({SVG: {font: \"STIX-Web\"}});}</script>\n",
              "                <script type=\"text/javascript\">window.PlotlyConfig = {MathJaxConfig: 'local'};</script>\n",
              "        <script src=\"https://cdn.plot.ly/plotly-latest.min.js\"></script>    \n",
              "            <div id=\"9a40a5ea-8a71-49f8-a48f-66034031fda9\" class=\"plotly-graph-div\" style=\"height:525px; width:100%;\"></div>\n",
              "            <script type=\"text/javascript\">\n",
              "                \n",
              "                    window.PLOTLYENV=window.PLOTLYENV || {};\n",
              "                    \n",
              "                if (document.getElementById(\"9a40a5ea-8a71-49f8-a48f-66034031fda9\")) {\n",
              "                    Plotly.newPlot(\n",
              "                        '9a40a5ea-8a71-49f8-a48f-66034031fda9',\n",
              "                        [{\"coloraxis\": \"coloraxis\", \"geo\": \"geo\", \"hoverlabel\": {\"namelength\": 0}, \"hovertemplate\": \"locations=%{location}<br>color=%{z}\", \"locationmode\": \"USA-states\", \"locations\": [\"NY\", \"CA\", \"TX\", \"IL\", \"PA\", \"AZ\", \"NV\", \"FL\", \"IN\", \"NC\", \"OH\", \"KY\", \"MI\", \"CO\", \"WA\", \"TN\", \"MA\", \"DC\", \"OR\", \"MD\", \"WI\", \"NE\", \"NM\", \"OK\", \"GA\", \"MO\", \"VA\", \"MN\", \"HI\", \"LA\", \"KS\", \"SC\", \"AK\", \"NJ\", \"AL\", \"ID\", \"IA\", \"UT\", \"AR\", \"RI\", \"SD\", \"MS\", \"CT\", \"DE\", \"MT\", \"NH\", \"ND\", \"WY\", \"WV\", \"ME\", \"VT\"], \"name\": \"\", \"type\": \"choropleth\", \"z\": [5, 2, 1, 0, 5, 2, 5, 6, 0, 3, 5, 0, 4, 2, 7, 1, 0, 2, 5, 4, 7, 3, 3, 5, 6, 4, 1, 4, 6, 0, 0, 1, 2, 3, 2, 6, 6, 1, 2, 5, 1, 4, 2, 6, 3, 3, 3, 7, 7, 4, 7]}],\n",
              "                        {\"coloraxis\": {\"colorbar\": {\"title\": {\"text\": \"color\"}}, \"colorscale\": [[0.0, \"#0d0887\"], [0.1111111111111111, \"#46039f\"], [0.2222222222222222, \"#7201a8\"], [0.3333333333333333, \"#9c179e\"], [0.4444444444444444, \"#bd3786\"], [0.5555555555555556, \"#d8576b\"], [0.6666666666666666, \"#ed7953\"], [0.7777777777777778, \"#fb9f3a\"], [0.8888888888888888, \"#fdca26\"], [1.0, \"#f0f921\"]]}, \"geo\": {\"center\": {}, \"domain\": {\"x\": [0.0, 1.0], \"y\": [0.0, 1.0]}, \"scope\": \"usa\"}, \"legend\": {\"tracegroupgap\": 0}, \"margin\": {\"t\": 60}, \"template\": {\"data\": {\"bar\": [{\"error_x\": {\"color\": \"#2a3f5f\"}, \"error_y\": {\"color\": \"#2a3f5f\"}, \"marker\": {\"line\": {\"color\": \"#E5ECF6\", \"width\": 0.5}}, \"type\": \"bar\"}], \"barpolar\": [{\"marker\": {\"line\": {\"color\": \"#E5ECF6\", \"width\": 0.5}}, \"type\": \"barpolar\"}], \"carpet\": [{\"aaxis\": {\"endlinecolor\": \"#2a3f5f\", \"gridcolor\": \"white\", \"linecolor\": \"white\", \"minorgridcolor\": \"white\", \"startlinecolor\": \"#2a3f5f\"}, \"baxis\": {\"endlinecolor\": \"#2a3f5f\", \"gridcolor\": \"white\", \"linecolor\": \"white\", \"minorgridcolor\": \"white\", \"startlinecolor\": \"#2a3f5f\"}, \"type\": \"carpet\"}], \"choropleth\": [{\"colorbar\": {\"outlinewidth\": 0, \"ticks\": \"\"}, \"type\": \"choropleth\"}], \"contour\": [{\"colorbar\": {\"outlinewidth\": 0, \"ticks\": \"\"}, \"colorscale\": [[0.0, \"#0d0887\"], [0.1111111111111111, \"#46039f\"], [0.2222222222222222, \"#7201a8\"], [0.3333333333333333, \"#9c179e\"], [0.4444444444444444, \"#bd3786\"], [0.5555555555555556, \"#d8576b\"], [0.6666666666666666, \"#ed7953\"], [0.7777777777777778, \"#fb9f3a\"], [0.8888888888888888, \"#fdca26\"], [1.0, \"#f0f921\"]], \"type\": \"contour\"}], \"contourcarpet\": [{\"colorbar\": {\"outlinewidth\": 0, \"ticks\": \"\"}, \"type\": \"contourcarpet\"}], \"heatmap\": [{\"colorbar\": {\"outlinewidth\": 0, \"ticks\": \"\"}, \"colorscale\": [[0.0, \"#0d0887\"], [0.1111111111111111, \"#46039f\"], [0.2222222222222222, \"#7201a8\"], [0.3333333333333333, \"#9c179e\"], [0.4444444444444444, \"#bd3786\"], [0.5555555555555556, \"#d8576b\"], [0.6666666666666666, \"#ed7953\"], [0.7777777777777778, \"#fb9f3a\"], [0.8888888888888888, \"#fdca26\"], [1.0, \"#f0f921\"]], \"type\": \"heatmap\"}], \"heatmapgl\": [{\"colorbar\": {\"outlinewidth\": 0, \"ticks\": \"\"}, \"colorscale\": [[0.0, \"#0d0887\"], [0.1111111111111111, \"#46039f\"], [0.2222222222222222, \"#7201a8\"], [0.3333333333333333, \"#9c179e\"], [0.4444444444444444, \"#bd3786\"], [0.5555555555555556, \"#d8576b\"], [0.6666666666666666, \"#ed7953\"], [0.7777777777777778, \"#fb9f3a\"], [0.8888888888888888, \"#fdca26\"], [1.0, \"#f0f921\"]], \"type\": \"heatmapgl\"}], \"histogram\": [{\"marker\": {\"colorbar\": {\"outlinewidth\": 0, \"ticks\": \"\"}}, \"type\": \"histogram\"}], \"histogram2d\": [{\"colorbar\": {\"outlinewidth\": 0, \"ticks\": \"\"}, \"colorscale\": [[0.0, \"#0d0887\"], [0.1111111111111111, \"#46039f\"], [0.2222222222222222, \"#7201a8\"], [0.3333333333333333, \"#9c179e\"], [0.4444444444444444, \"#bd3786\"], [0.5555555555555556, \"#d8576b\"], [0.6666666666666666, \"#ed7953\"], [0.7777777777777778, \"#fb9f3a\"], [0.8888888888888888, \"#fdca26\"], [1.0, \"#f0f921\"]], \"type\": \"histogram2d\"}], \"histogram2dcontour\": [{\"colorbar\": {\"outlinewidth\": 0, \"ticks\": \"\"}, \"colorscale\": [[0.0, \"#0d0887\"], [0.1111111111111111, \"#46039f\"], [0.2222222222222222, \"#7201a8\"], [0.3333333333333333, \"#9c179e\"], [0.4444444444444444, \"#bd3786\"], [0.5555555555555556, \"#d8576b\"], [0.6666666666666666, \"#ed7953\"], [0.7777777777777778, \"#fb9f3a\"], [0.8888888888888888, \"#fdca26\"], [1.0, \"#f0f921\"]], \"type\": \"histogram2dcontour\"}], \"mesh3d\": [{\"colorbar\": {\"outlinewidth\": 0, \"ticks\": \"\"}, \"type\": \"mesh3d\"}], \"parcoords\": [{\"line\": {\"colorbar\": {\"outlinewidth\": 0, \"ticks\": \"\"}}, \"type\": \"parcoords\"}], \"pie\": [{\"automargin\": true, \"type\": \"pie\"}], \"scatter\": [{\"marker\": {\"colorbar\": {\"outlinewidth\": 0, \"ticks\": \"\"}}, \"type\": \"scatter\"}], \"scatter3d\": [{\"line\": {\"colorbar\": {\"outlinewidth\": 0, \"ticks\": \"\"}}, \"marker\": {\"colorbar\": {\"outlinewidth\": 0, \"ticks\": \"\"}}, \"type\": \"scatter3d\"}], \"scattercarpet\": [{\"marker\": {\"colorbar\": {\"outlinewidth\": 0, \"ticks\": \"\"}}, \"type\": \"scattercarpet\"}], \"scattergeo\": [{\"marker\": {\"colorbar\": {\"outlinewidth\": 0, \"ticks\": \"\"}}, \"type\": \"scattergeo\"}], \"scattergl\": [{\"marker\": {\"colorbar\": {\"outlinewidth\": 0, \"ticks\": \"\"}}, \"type\": \"scattergl\"}], \"scattermapbox\": [{\"marker\": {\"colorbar\": {\"outlinewidth\": 0, \"ticks\": \"\"}}, \"type\": \"scattermapbox\"}], \"scatterpolar\": [{\"marker\": {\"colorbar\": {\"outlinewidth\": 0, \"ticks\": \"\"}}, \"type\": \"scatterpolar\"}], \"scatterpolargl\": [{\"marker\": {\"colorbar\": {\"outlinewidth\": 0, \"ticks\": \"\"}}, \"type\": \"scatterpolargl\"}], \"scatterternary\": [{\"marker\": {\"colorbar\": {\"outlinewidth\": 0, \"ticks\": \"\"}}, \"type\": \"scatterternary\"}], \"surface\": [{\"colorbar\": {\"outlinewidth\": 0, \"ticks\": \"\"}, \"colorscale\": [[0.0, \"#0d0887\"], [0.1111111111111111, \"#46039f\"], [0.2222222222222222, \"#7201a8\"], [0.3333333333333333, \"#9c179e\"], [0.4444444444444444, \"#bd3786\"], [0.5555555555555556, \"#d8576b\"], [0.6666666666666666, \"#ed7953\"], [0.7777777777777778, \"#fb9f3a\"], [0.8888888888888888, \"#fdca26\"], [1.0, \"#f0f921\"]], \"type\": \"surface\"}], \"table\": [{\"cells\": {\"fill\": {\"color\": \"#EBF0F8\"}, \"line\": {\"color\": \"white\"}}, \"header\": {\"fill\": {\"color\": \"#C8D4E3\"}, \"line\": {\"color\": \"white\"}}, \"type\": \"table\"}]}, \"layout\": {\"annotationdefaults\": {\"arrowcolor\": \"#2a3f5f\", \"arrowhead\": 0, \"arrowwidth\": 1}, \"coloraxis\": {\"colorbar\": {\"outlinewidth\": 0, \"ticks\": \"\"}}, \"colorscale\": {\"diverging\": [[0, \"#8e0152\"], [0.1, \"#c51b7d\"], [0.2, \"#de77ae\"], [0.3, \"#f1b6da\"], [0.4, \"#fde0ef\"], [0.5, \"#f7f7f7\"], [0.6, \"#e6f5d0\"], [0.7, \"#b8e186\"], [0.8, \"#7fbc41\"], [0.9, \"#4d9221\"], [1, \"#276419\"]], \"sequential\": [[0.0, \"#0d0887\"], [0.1111111111111111, \"#46039f\"], [0.2222222222222222, \"#7201a8\"], [0.3333333333333333, \"#9c179e\"], [0.4444444444444444, \"#bd3786\"], [0.5555555555555556, \"#d8576b\"], [0.6666666666666666, \"#ed7953\"], [0.7777777777777778, \"#fb9f3a\"], [0.8888888888888888, \"#fdca26\"], [1.0, \"#f0f921\"]], \"sequentialminus\": [[0.0, \"#0d0887\"], [0.1111111111111111, \"#46039f\"], [0.2222222222222222, \"#7201a8\"], [0.3333333333333333, \"#9c179e\"], [0.4444444444444444, \"#bd3786\"], [0.5555555555555556, \"#d8576b\"], [0.6666666666666666, \"#ed7953\"], [0.7777777777777778, \"#fb9f3a\"], [0.8888888888888888, \"#fdca26\"], [1.0, \"#f0f921\"]]}, \"colorway\": [\"#636efa\", \"#EF553B\", \"#00cc96\", \"#ab63fa\", \"#FFA15A\", \"#19d3f3\", \"#FF6692\", \"#B6E880\", \"#FF97FF\", \"#FECB52\"], \"font\": {\"color\": \"#2a3f5f\"}, \"geo\": {\"bgcolor\": \"white\", \"lakecolor\": \"white\", \"landcolor\": \"#E5ECF6\", \"showlakes\": true, \"showland\": true, \"subunitcolor\": \"white\"}, \"hoverlabel\": {\"align\": \"left\"}, \"hovermode\": \"closest\", \"mapbox\": {\"style\": \"light\"}, \"paper_bgcolor\": \"white\", \"plot_bgcolor\": \"#E5ECF6\", \"polar\": {\"angularaxis\": {\"gridcolor\": \"white\", \"linecolor\": \"white\", \"ticks\": \"\"}, \"bgcolor\": \"#E5ECF6\", \"radialaxis\": {\"gridcolor\": \"white\", \"linecolor\": \"white\", \"ticks\": \"\"}}, \"scene\": {\"xaxis\": {\"backgroundcolor\": \"#E5ECF6\", \"gridcolor\": \"white\", \"gridwidth\": 2, \"linecolor\": \"white\", \"showbackground\": true, \"ticks\": \"\", \"zerolinecolor\": \"white\"}, \"yaxis\": {\"backgroundcolor\": \"#E5ECF6\", \"gridcolor\": \"white\", \"gridwidth\": 2, \"linecolor\": \"white\", \"showbackground\": true, \"ticks\": \"\", \"zerolinecolor\": \"white\"}, \"zaxis\": {\"backgroundcolor\": \"#E5ECF6\", \"gridcolor\": \"white\", \"gridwidth\": 2, \"linecolor\": \"white\", \"showbackground\": true, \"ticks\": \"\", \"zerolinecolor\": \"white\"}}, \"shapedefaults\": {\"line\": {\"color\": \"#2a3f5f\"}}, \"ternary\": {\"aaxis\": {\"gridcolor\": \"white\", \"linecolor\": \"white\", \"ticks\": \"\"}, \"baxis\": {\"gridcolor\": \"white\", \"linecolor\": \"white\", \"ticks\": \"\"}, \"bgcolor\": \"#E5ECF6\", \"caxis\": {\"gridcolor\": \"white\", \"linecolor\": \"white\", \"ticks\": \"\"}}, \"title\": {\"x\": 0.05}, \"xaxis\": {\"automargin\": true, \"gridcolor\": \"white\", \"linecolor\": \"white\", \"ticks\": \"\", \"title\": {\"standoff\": 15}, \"zerolinecolor\": \"white\", \"zerolinewidth\": 2}, \"yaxis\": {\"automargin\": true, \"gridcolor\": \"white\", \"linecolor\": \"white\", \"ticks\": \"\", \"title\": {\"standoff\": 15}, \"zerolinecolor\": \"white\", \"zerolinewidth\": 2}}}},\n",
              "                        {\"responsive\": true}\n",
              "                    ).then(function(){\n",
              "                            \n",
              "var gd = document.getElementById('9a40a5ea-8a71-49f8-a48f-66034031fda9');\n",
              "var x = new MutationObserver(function (mutations, observer) {{\n",
              "        var display = window.getComputedStyle(gd).display;\n",
              "        if (!display || display === 'none') {{\n",
              "            console.log([gd, 'removed!']);\n",
              "            Plotly.purge(gd);\n",
              "            observer.disconnect();\n",
              "        }}\n",
              "}});\n",
              "\n",
              "// Listen for the removal of the full notebook cells\n",
              "var notebookContainer = gd.closest('#notebook-container');\n",
              "if (notebookContainer) {{\n",
              "    x.observe(notebookContainer, {childList: true});\n",
              "}}\n",
              "\n",
              "// Listen for the clearing of the current output cell\n",
              "var outputEl = gd.closest('.output');\n",
              "if (outputEl) {{\n",
              "    x.observe(outputEl, {childList: true});\n",
              "}}\n",
              "\n",
              "                        })\n",
              "                };\n",
              "                \n",
              "            </script>\n",
              "        </div>\n",
              "</body>\n",
              "</html>"
            ]
          },
          "metadata": {
            "tags": []
          }
        }
      ]
    },
    {
      "cell_type": "markdown",
      "metadata": {
        "id": "IrqtEt4lSas1"
      },
      "source": [
        "# Guardar el modelo"
      ]
    },
    {
      "cell_type": "code",
      "metadata": {
        "id": "luwuL98rSdwl"
      },
      "source": [
        "import pickle\n",
        "filename = 'finalized_model_us_house_price.sav'\n",
        "pickle.dump(kmeans, open(filename, 'wb'))"
      ],
      "execution_count": null,
      "outputs": []
    }
  ]
}